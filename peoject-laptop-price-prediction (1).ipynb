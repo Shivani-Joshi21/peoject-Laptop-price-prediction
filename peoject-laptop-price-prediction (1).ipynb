{
 "cells": [
  {
   "cell_type": "code",
   "execution_count": 1,
   "id": "a181a9cd",
   "metadata": {
    "_cell_guid": "b1076dfc-b9ad-4769-8c92-a6c4dae69d19",
    "_uuid": "8f2839f25d086af736a60e9eeb907d3b93b6e0e5",
    "execution": {
     "iopub.execute_input": "2023-09-13T07:33:02.448325Z",
     "iopub.status.busy": "2023-09-13T07:33:02.447618Z",
     "iopub.status.idle": "2023-09-13T07:33:02.881020Z",
     "shell.execute_reply": "2023-09-13T07:33:02.879808Z"
    },
    "papermill": {
     "duration": 0.450679,
     "end_time": "2023-09-13T07:33:02.884506",
     "exception": false,
     "start_time": "2023-09-13T07:33:02.433827",
     "status": "completed"
    },
    "tags": []
   },
   "outputs": [
    {
     "name": "stdout",
     "output_type": "stream",
     "text": [
      "/kaggle/input/laptop-price-prediction/laptops_train.csv\n",
      "/kaggle/input/laptop-price-prediction/laptops_test.csv\n"
     ]
    }
   ],
   "source": [
    "# This Python 3 environment comes with many helpful analytics libraries installed\n",
    "# It is defined by the kaggle/python Docker image: https://github.com/kaggle/docker-python\n",
    "# For example, here's several helpful packages to load\n",
    "\n",
    "import numpy as np # linear algebra\n",
    "import pandas as pd # data processing, CSV file I/O (e.g. pd.read_csv)\n",
    "\n",
    "# Input data files are available in the read-only \"../input/\" directory\n",
    "# For example, running this (by clicking run or pressing Shift+Enter) will list all files under the input directory\n",
    "\n",
    "import os\n",
    "for dirname, _, filenames in os.walk('/kaggle/input'):\n",
    "    for filename in filenames:\n",
    "        print(os.path.join(dirname, filename))\n",
    "\n",
    "# You can write up to 20GB to the current directory (/kaggle/working/) that gets preserved as output when you create a version using \"Save & Run All\" \n",
    "# You can also write temporary files to /kaggle/temp/, but they won't be saved outside of the current session"
   ]
  },
  {
   "cell_type": "code",
   "execution_count": 2,
   "id": "51981c09",
   "metadata": {
    "execution": {
     "iopub.execute_input": "2023-09-13T07:33:02.909613Z",
     "iopub.status.busy": "2023-09-13T07:33:02.908614Z",
     "iopub.status.idle": "2023-09-13T07:33:04.598000Z",
     "shell.execute_reply": "2023-09-13T07:33:04.596782Z"
    },
    "papermill": {
     "duration": 1.705223,
     "end_time": "2023-09-13T07:33:04.601266",
     "exception": false,
     "start_time": "2023-09-13T07:33:02.896043",
     "status": "completed"
    },
    "tags": []
   },
   "outputs": [],
   "source": [
    "import seaborn as sns\n",
    "import matplotlib.pyplot as plt\n",
    "%matplotlib inline\n",
    "import warnings\n",
    "warnings.filterwarnings('ignore')\n"
   ]
  },
  {
   "cell_type": "code",
   "execution_count": 3,
   "id": "ac9a17df",
   "metadata": {
    "execution": {
     "iopub.execute_input": "2023-09-13T07:33:04.625884Z",
     "iopub.status.busy": "2023-09-13T07:33:04.625406Z",
     "iopub.status.idle": "2023-09-13T07:33:04.689958Z",
     "shell.execute_reply": "2023-09-13T07:33:04.688722Z"
    },
    "papermill": {
     "duration": 0.079843,
     "end_time": "2023-09-13T07:33:04.692501",
     "exception": false,
     "start_time": "2023-09-13T07:33:04.612658",
     "status": "completed"
    },
    "tags": []
   },
   "outputs": [
    {
     "data": {
      "text/html": [
       "<div>\n",
       "<style scoped>\n",
       "    .dataframe tbody tr th:only-of-type {\n",
       "        vertical-align: middle;\n",
       "    }\n",
       "\n",
       "    .dataframe tbody tr th {\n",
       "        vertical-align: top;\n",
       "    }\n",
       "\n",
       "    .dataframe thead th {\n",
       "        text-align: right;\n",
       "    }\n",
       "</style>\n",
       "<table border=\"1\" class=\"dataframe\">\n",
       "  <thead>\n",
       "    <tr style=\"text-align: right;\">\n",
       "      <th></th>\n",
       "      <th>Manufacturer</th>\n",
       "      <th>Model Name</th>\n",
       "      <th>Category</th>\n",
       "      <th>Screen Size</th>\n",
       "      <th>Screen</th>\n",
       "      <th>CPU</th>\n",
       "      <th>RAM</th>\n",
       "      <th>Storage</th>\n",
       "      <th>GPU</th>\n",
       "      <th>Operating System</th>\n",
       "      <th>Operating System Version</th>\n",
       "      <th>Weight</th>\n",
       "      <th>Price</th>\n",
       "    </tr>\n",
       "  </thead>\n",
       "  <tbody>\n",
       "    <tr>\n",
       "      <th>0</th>\n",
       "      <td>Apple</td>\n",
       "      <td>MacBook Pro</td>\n",
       "      <td>Ultrabook</td>\n",
       "      <td>13.3\"</td>\n",
       "      <td>IPS Panel Retina Display 2560x1600</td>\n",
       "      <td>Intel Core i5 2.3GHz</td>\n",
       "      <td>8GB</td>\n",
       "      <td>128GB SSD</td>\n",
       "      <td>Intel Iris Plus Graphics 640</td>\n",
       "      <td>macOS</td>\n",
       "      <td>NaN</td>\n",
       "      <td>1.37kg</td>\n",
       "      <td>11912523.48</td>\n",
       "    </tr>\n",
       "    <tr>\n",
       "      <th>1</th>\n",
       "      <td>Apple</td>\n",
       "      <td>Macbook Air</td>\n",
       "      <td>Ultrabook</td>\n",
       "      <td>13.3\"</td>\n",
       "      <td>1440x900</td>\n",
       "      <td>Intel Core i5 1.8GHz</td>\n",
       "      <td>8GB</td>\n",
       "      <td>128GB Flash Storage</td>\n",
       "      <td>Intel HD Graphics 6000</td>\n",
       "      <td>macOS</td>\n",
       "      <td>NaN</td>\n",
       "      <td>1.34kg</td>\n",
       "      <td>7993374.48</td>\n",
       "    </tr>\n",
       "    <tr>\n",
       "      <th>2</th>\n",
       "      <td>HP</td>\n",
       "      <td>250 G6</td>\n",
       "      <td>Notebook</td>\n",
       "      <td>15.6\"</td>\n",
       "      <td>Full HD 1920x1080</td>\n",
       "      <td>Intel Core i5 7200U 2.5GHz</td>\n",
       "      <td>8GB</td>\n",
       "      <td>256GB SSD</td>\n",
       "      <td>Intel HD Graphics 620</td>\n",
       "      <td>No OS</td>\n",
       "      <td>NaN</td>\n",
       "      <td>1.86kg</td>\n",
       "      <td>5112900.00</td>\n",
       "    </tr>\n",
       "    <tr>\n",
       "      <th>3</th>\n",
       "      <td>Apple</td>\n",
       "      <td>MacBook Pro</td>\n",
       "      <td>Ultrabook</td>\n",
       "      <td>15.4\"</td>\n",
       "      <td>IPS Panel Retina Display 2880x1800</td>\n",
       "      <td>Intel Core i7 2.7GHz</td>\n",
       "      <td>16GB</td>\n",
       "      <td>512GB SSD</td>\n",
       "      <td>AMD Radeon Pro 455</td>\n",
       "      <td>macOS</td>\n",
       "      <td>NaN</td>\n",
       "      <td>1.83kg</td>\n",
       "      <td>22563005.40</td>\n",
       "    </tr>\n",
       "    <tr>\n",
       "      <th>4</th>\n",
       "      <td>Apple</td>\n",
       "      <td>MacBook Pro</td>\n",
       "      <td>Ultrabook</td>\n",
       "      <td>13.3\"</td>\n",
       "      <td>IPS Panel Retina Display 2560x1600</td>\n",
       "      <td>Intel Core i5 3.1GHz</td>\n",
       "      <td>8GB</td>\n",
       "      <td>256GB SSD</td>\n",
       "      <td>Intel Iris Plus Graphics 650</td>\n",
       "      <td>macOS</td>\n",
       "      <td>NaN</td>\n",
       "      <td>1.37kg</td>\n",
       "      <td>16037611.20</td>\n",
       "    </tr>\n",
       "  </tbody>\n",
       "</table>\n",
       "</div>"
      ],
      "text/plain": [
       "  Manufacturer   Model Name   Category Screen Size  \\\n",
       "0        Apple  MacBook Pro  Ultrabook       13.3\"   \n",
       "1        Apple  Macbook Air  Ultrabook       13.3\"   \n",
       "2           HP       250 G6   Notebook       15.6\"   \n",
       "3        Apple  MacBook Pro  Ultrabook       15.4\"   \n",
       "4        Apple  MacBook Pro  Ultrabook       13.3\"   \n",
       "\n",
       "                               Screen                         CPU   RAM  \\\n",
       "0  IPS Panel Retina Display 2560x1600        Intel Core i5 2.3GHz   8GB   \n",
       "1                            1440x900        Intel Core i5 1.8GHz   8GB   \n",
       "2                   Full HD 1920x1080  Intel Core i5 7200U 2.5GHz   8GB   \n",
       "3  IPS Panel Retina Display 2880x1800        Intel Core i7 2.7GHz  16GB   \n",
       "4  IPS Panel Retina Display 2560x1600        Intel Core i5 3.1GHz   8GB   \n",
       "\n",
       "               Storage                           GPU Operating System  \\\n",
       "0            128GB SSD  Intel Iris Plus Graphics 640            macOS   \n",
       "1  128GB Flash Storage        Intel HD Graphics 6000            macOS   \n",
       "2            256GB SSD         Intel HD Graphics 620            No OS   \n",
       "3            512GB SSD            AMD Radeon Pro 455            macOS   \n",
       "4            256GB SSD  Intel Iris Plus Graphics 650            macOS   \n",
       "\n",
       "  Operating System Version  Weight        Price  \n",
       "0                      NaN  1.37kg  11912523.48  \n",
       "1                      NaN  1.34kg   7993374.48  \n",
       "2                      NaN  1.86kg   5112900.00  \n",
       "3                      NaN  1.83kg  22563005.40  \n",
       "4                      NaN  1.37kg  16037611.20  "
      ]
     },
     "execution_count": 3,
     "metadata": {},
     "output_type": "execute_result"
    }
   ],
   "source": [
    "train=pd.read_csv('/kaggle/input/laptop-price-prediction/laptops_train.csv')\n",
    "test=pd.read_csv('/kaggle/input/laptop-price-prediction/laptops_test.csv')\n",
    "df=pd.concat([train.reset_index(drop=True),test.reset_index(drop=True)])\n",
    "df.head()"
   ]
  },
  {
   "cell_type": "code",
   "execution_count": 4,
   "id": "57a15be6",
   "metadata": {
    "execution": {
     "iopub.execute_input": "2023-09-13T07:33:04.717482Z",
     "iopub.status.busy": "2023-09-13T07:33:04.716721Z",
     "iopub.status.idle": "2023-09-13T07:33:04.747650Z",
     "shell.execute_reply": "2023-09-13T07:33:04.746439Z"
    },
    "papermill": {
     "duration": 0.04631,
     "end_time": "2023-09-13T07:33:04.750172",
     "exception": false,
     "start_time": "2023-09-13T07:33:04.703862",
     "status": "completed"
    },
    "tags": []
   },
   "outputs": [
    {
     "name": "stdout",
     "output_type": "stream",
     "text": [
      "<class 'pandas.core.frame.DataFrame'>\n",
      "Index: 1302 entries, 0 to 324\n",
      "Data columns (total 13 columns):\n",
      " #   Column                    Non-Null Count  Dtype  \n",
      "---  ------                    --------------  -----  \n",
      " 0   Manufacturer              1302 non-null   object \n",
      " 1   Model Name                1302 non-null   object \n",
      " 2   Category                  1302 non-null   object \n",
      " 3   Screen Size               1302 non-null   object \n",
      " 4   Screen                    1302 non-null   object \n",
      " 5   CPU                       1302 non-null   object \n",
      " 6   RAM                       1302 non-null   object \n",
      " 7    Storage                  1302 non-null   object \n",
      " 8   GPU                       1302 non-null   object \n",
      " 9   Operating System          1302 non-null   object \n",
      " 10  Operating System Version  1132 non-null   object \n",
      " 11  Weight                    1302 non-null   object \n",
      " 12  Price                     1302 non-null   float64\n",
      "dtypes: float64(1), object(12)\n",
      "memory usage: 142.4+ KB\n"
     ]
    }
   ],
   "source": [
    "df.info()"
   ]
  },
  {
   "cell_type": "code",
   "execution_count": 5,
   "id": "d501d1dd",
   "metadata": {
    "execution": {
     "iopub.execute_input": "2023-09-13T07:33:04.775324Z",
     "iopub.status.busy": "2023-09-13T07:33:04.774842Z",
     "iopub.status.idle": "2023-09-13T07:33:04.793139Z",
     "shell.execute_reply": "2023-09-13T07:33:04.792053Z"
    },
    "papermill": {
     "duration": 0.033356,
     "end_time": "2023-09-13T07:33:04.795307",
     "exception": false,
     "start_time": "2023-09-13T07:33:04.761951",
     "status": "completed"
    },
    "tags": []
   },
   "outputs": [
    {
     "data": {
      "text/html": [
       "<div>\n",
       "<style scoped>\n",
       "    .dataframe tbody tr th:only-of-type {\n",
       "        vertical-align: middle;\n",
       "    }\n",
       "\n",
       "    .dataframe tbody tr th {\n",
       "        vertical-align: top;\n",
       "    }\n",
       "\n",
       "    .dataframe thead th {\n",
       "        text-align: right;\n",
       "    }\n",
       "</style>\n",
       "<table border=\"1\" class=\"dataframe\">\n",
       "  <thead>\n",
       "    <tr style=\"text-align: right;\">\n",
       "      <th></th>\n",
       "      <th>Price</th>\n",
       "    </tr>\n",
       "  </thead>\n",
       "  <tbody>\n",
       "    <tr>\n",
       "      <th>count</th>\n",
       "      <td>1.302000e+03</td>\n",
       "    </tr>\n",
       "    <tr>\n",
       "      <th>mean</th>\n",
       "      <td>9.987213e+06</td>\n",
       "    </tr>\n",
       "    <tr>\n",
       "      <th>std</th>\n",
       "      <td>6.215746e+06</td>\n",
       "    </tr>\n",
       "    <tr>\n",
       "      <th>min</th>\n",
       "      <td>1.547208e+06</td>\n",
       "    </tr>\n",
       "    <tr>\n",
       "      <th>25%</th>\n",
       "      <td>5.326308e+06</td>\n",
       "    </tr>\n",
       "    <tr>\n",
       "      <th>50%</th>\n",
       "      <td>8.687484e+06</td>\n",
       "    </tr>\n",
       "    <tr>\n",
       "      <th>75%</th>\n",
       "      <td>1.321198e+07</td>\n",
       "    </tr>\n",
       "    <tr>\n",
       "      <th>max</th>\n",
       "      <td>5.423231e+07</td>\n",
       "    </tr>\n",
       "  </tbody>\n",
       "</table>\n",
       "</div>"
      ],
      "text/plain": [
       "              Price\n",
       "count  1.302000e+03\n",
       "mean   9.987213e+06\n",
       "std    6.215746e+06\n",
       "min    1.547208e+06\n",
       "25%    5.326308e+06\n",
       "50%    8.687484e+06\n",
       "75%    1.321198e+07\n",
       "max    5.423231e+07"
      ]
     },
     "execution_count": 5,
     "metadata": {},
     "output_type": "execute_result"
    }
   ],
   "source": [
    "df.describe()"
   ]
  },
  {
   "cell_type": "code",
   "execution_count": 6,
   "id": "57ee194b",
   "metadata": {
    "execution": {
     "iopub.execute_input": "2023-09-13T07:33:04.820912Z",
     "iopub.status.busy": "2023-09-13T07:33:04.820225Z",
     "iopub.status.idle": "2023-09-13T07:33:04.826166Z",
     "shell.execute_reply": "2023-09-13T07:33:04.825310Z"
    },
    "papermill": {
     "duration": 0.021298,
     "end_time": "2023-09-13T07:33:04.828126",
     "exception": false,
     "start_time": "2023-09-13T07:33:04.806828",
     "status": "completed"
    },
    "tags": []
   },
   "outputs": [
    {
     "data": {
      "text/plain": [
       "Index(['Manufacturer', 'Model Name', 'Category', 'Screen Size', 'Screen',\n",
       "       'CPU', 'RAM', ' Storage', 'GPU', 'Operating System',\n",
       "       'Operating System Version', 'Weight', 'Price'],\n",
       "      dtype='object')"
      ]
     },
     "execution_count": 6,
     "metadata": {},
     "output_type": "execute_result"
    }
   ],
   "source": [
    "df.columns"
   ]
  },
  {
   "cell_type": "code",
   "execution_count": 7,
   "id": "722485da",
   "metadata": {
    "execution": {
     "iopub.execute_input": "2023-09-13T07:33:04.853576Z",
     "iopub.status.busy": "2023-09-13T07:33:04.852880Z",
     "iopub.status.idle": "2023-09-13T07:33:04.873005Z",
     "shell.execute_reply": "2023-09-13T07:33:04.871553Z"
    },
    "papermill": {
     "duration": 0.036338,
     "end_time": "2023-09-13T07:33:04.875913",
     "exception": false,
     "start_time": "2023-09-13T07:33:04.839575",
     "status": "completed"
    },
    "tags": []
   },
   "outputs": [
    {
     "data": {
      "text/html": [
       "<div>\n",
       "<style scoped>\n",
       "    .dataframe tbody tr th:only-of-type {\n",
       "        vertical-align: middle;\n",
       "    }\n",
       "\n",
       "    .dataframe tbody tr th {\n",
       "        vertical-align: top;\n",
       "    }\n",
       "\n",
       "    .dataframe thead th {\n",
       "        text-align: right;\n",
       "    }\n",
       "</style>\n",
       "<table border=\"1\" class=\"dataframe\">\n",
       "  <thead>\n",
       "    <tr style=\"text-align: right;\">\n",
       "      <th></th>\n",
       "      <th>Manufacturer</th>\n",
       "      <th>Model_Name</th>\n",
       "      <th>Category</th>\n",
       "      <th>Screen_Size</th>\n",
       "      <th>Screen</th>\n",
       "      <th>CPU</th>\n",
       "      <th>RAM</th>\n",
       "      <th>Storage</th>\n",
       "      <th>GPU</th>\n",
       "      <th>OS</th>\n",
       "      <th>OS_Version</th>\n",
       "      <th>Weight</th>\n",
       "      <th>Price</th>\n",
       "    </tr>\n",
       "  </thead>\n",
       "  <tbody>\n",
       "    <tr>\n",
       "      <th>0</th>\n",
       "      <td>Apple</td>\n",
       "      <td>MacBook Pro</td>\n",
       "      <td>Ultrabook</td>\n",
       "      <td>13.3\"</td>\n",
       "      <td>IPS Panel Retina Display 2560x1600</td>\n",
       "      <td>Intel Core i5 2.3GHz</td>\n",
       "      <td>8GB</td>\n",
       "      <td>128GB SSD</td>\n",
       "      <td>Intel Iris Plus Graphics 640</td>\n",
       "      <td>macOS</td>\n",
       "      <td>NaN</td>\n",
       "      <td>1.37kg</td>\n",
       "      <td>11912523.48</td>\n",
       "    </tr>\n",
       "    <tr>\n",
       "      <th>1</th>\n",
       "      <td>Apple</td>\n",
       "      <td>Macbook Air</td>\n",
       "      <td>Ultrabook</td>\n",
       "      <td>13.3\"</td>\n",
       "      <td>1440x900</td>\n",
       "      <td>Intel Core i5 1.8GHz</td>\n",
       "      <td>8GB</td>\n",
       "      <td>128GB Flash Storage</td>\n",
       "      <td>Intel HD Graphics 6000</td>\n",
       "      <td>macOS</td>\n",
       "      <td>NaN</td>\n",
       "      <td>1.34kg</td>\n",
       "      <td>7993374.48</td>\n",
       "    </tr>\n",
       "    <tr>\n",
       "      <th>2</th>\n",
       "      <td>HP</td>\n",
       "      <td>250 G6</td>\n",
       "      <td>Notebook</td>\n",
       "      <td>15.6\"</td>\n",
       "      <td>Full HD 1920x1080</td>\n",
       "      <td>Intel Core i5 7200U 2.5GHz</td>\n",
       "      <td>8GB</td>\n",
       "      <td>256GB SSD</td>\n",
       "      <td>Intel HD Graphics 620</td>\n",
       "      <td>No OS</td>\n",
       "      <td>NaN</td>\n",
       "      <td>1.86kg</td>\n",
       "      <td>5112900.00</td>\n",
       "    </tr>\n",
       "    <tr>\n",
       "      <th>3</th>\n",
       "      <td>Apple</td>\n",
       "      <td>MacBook Pro</td>\n",
       "      <td>Ultrabook</td>\n",
       "      <td>15.4\"</td>\n",
       "      <td>IPS Panel Retina Display 2880x1800</td>\n",
       "      <td>Intel Core i7 2.7GHz</td>\n",
       "      <td>16GB</td>\n",
       "      <td>512GB SSD</td>\n",
       "      <td>AMD Radeon Pro 455</td>\n",
       "      <td>macOS</td>\n",
       "      <td>NaN</td>\n",
       "      <td>1.83kg</td>\n",
       "      <td>22563005.40</td>\n",
       "    </tr>\n",
       "    <tr>\n",
       "      <th>4</th>\n",
       "      <td>Apple</td>\n",
       "      <td>MacBook Pro</td>\n",
       "      <td>Ultrabook</td>\n",
       "      <td>13.3\"</td>\n",
       "      <td>IPS Panel Retina Display 2560x1600</td>\n",
       "      <td>Intel Core i5 3.1GHz</td>\n",
       "      <td>8GB</td>\n",
       "      <td>256GB SSD</td>\n",
       "      <td>Intel Iris Plus Graphics 650</td>\n",
       "      <td>macOS</td>\n",
       "      <td>NaN</td>\n",
       "      <td>1.37kg</td>\n",
       "      <td>16037611.20</td>\n",
       "    </tr>\n",
       "  </tbody>\n",
       "</table>\n",
       "</div>"
      ],
      "text/plain": [
       "  Manufacturer   Model_Name   Category Screen_Size  \\\n",
       "0        Apple  MacBook Pro  Ultrabook       13.3\"   \n",
       "1        Apple  Macbook Air  Ultrabook       13.3\"   \n",
       "2           HP       250 G6   Notebook       15.6\"   \n",
       "3        Apple  MacBook Pro  Ultrabook       15.4\"   \n",
       "4        Apple  MacBook Pro  Ultrabook       13.3\"   \n",
       "\n",
       "                               Screen                         CPU   RAM  \\\n",
       "0  IPS Panel Retina Display 2560x1600        Intel Core i5 2.3GHz   8GB   \n",
       "1                            1440x900        Intel Core i5 1.8GHz   8GB   \n",
       "2                   Full HD 1920x1080  Intel Core i5 7200U 2.5GHz   8GB   \n",
       "3  IPS Panel Retina Display 2880x1800        Intel Core i7 2.7GHz  16GB   \n",
       "4  IPS Panel Retina Display 2560x1600        Intel Core i5 3.1GHz   8GB   \n",
       "\n",
       "               Storage                           GPU     OS OS_Version  \\\n",
       "0            128GB SSD  Intel Iris Plus Graphics 640  macOS        NaN   \n",
       "1  128GB Flash Storage        Intel HD Graphics 6000  macOS        NaN   \n",
       "2            256GB SSD         Intel HD Graphics 620  No OS        NaN   \n",
       "3            512GB SSD            AMD Radeon Pro 455  macOS        NaN   \n",
       "4            256GB SSD  Intel Iris Plus Graphics 650  macOS        NaN   \n",
       "\n",
       "   Weight        Price  \n",
       "0  1.37kg  11912523.48  \n",
       "1  1.34kg   7993374.48  \n",
       "2  1.86kg   5112900.00  \n",
       "3  1.83kg  22563005.40  \n",
       "4  1.37kg  16037611.20  "
      ]
     },
     "execution_count": 7,
     "metadata": {},
     "output_type": "execute_result"
    }
   ],
   "source": [
    "df.rename(columns={\"Model Name\" : \"Model_Name\",\"Screen Size\": \"Screen_Size\",\"Storage\" : \"Storage\",\"Operating System\" : \"OS\",\"Operating System Version\":\"OS_Version\"},inplace=True)\n",
    "df.head()"
   ]
  },
  {
   "cell_type": "code",
   "execution_count": 8,
   "id": "d3bddd6d",
   "metadata": {
    "execution": {
     "iopub.execute_input": "2023-09-13T07:33:04.903352Z",
     "iopub.status.busy": "2023-09-13T07:33:04.902476Z",
     "iopub.status.idle": "2023-09-13T07:33:04.931492Z",
     "shell.execute_reply": "2023-09-13T07:33:04.930380Z"
    },
    "papermill": {
     "duration": 0.045766,
     "end_time": "2023-09-13T07:33:04.933949",
     "exception": false,
     "start_time": "2023-09-13T07:33:04.888183",
     "status": "completed"
    },
    "tags": []
   },
   "outputs": [
    {
     "data": {
      "text/html": [
       "<div>\n",
       "<style scoped>\n",
       "    .dataframe tbody tr th:only-of-type {\n",
       "        vertical-align: middle;\n",
       "    }\n",
       "\n",
       "    .dataframe tbody tr th {\n",
       "        vertical-align: top;\n",
       "    }\n",
       "\n",
       "    .dataframe thead th {\n",
       "        text-align: right;\n",
       "    }\n",
       "</style>\n",
       "<table border=\"1\" class=\"dataframe\">\n",
       "  <thead>\n",
       "    <tr style=\"text-align: right;\">\n",
       "      <th></th>\n",
       "      <th>Manufacturer</th>\n",
       "      <th>Model_Name</th>\n",
       "      <th>Category</th>\n",
       "      <th>Screen_Size</th>\n",
       "      <th>Screen</th>\n",
       "      <th>CPU</th>\n",
       "      <th>RAM</th>\n",
       "      <th>Storage</th>\n",
       "      <th>GPU</th>\n",
       "      <th>OS</th>\n",
       "      <th>OS_Version</th>\n",
       "      <th>Weight</th>\n",
       "      <th>Price</th>\n",
       "    </tr>\n",
       "  </thead>\n",
       "  <tbody>\n",
       "    <tr>\n",
       "      <th>0</th>\n",
       "      <td>Apple</td>\n",
       "      <td>MacBook Pro</td>\n",
       "      <td>Ultrabook</td>\n",
       "      <td>13.3\"</td>\n",
       "      <td>IPS Panel Retina Display 2560x1600</td>\n",
       "      <td>Intel Core i5 2.3GHz</td>\n",
       "      <td>8GB</td>\n",
       "      <td>128GB SSD</td>\n",
       "      <td>Intel Iris Plus Graphics 640</td>\n",
       "      <td>macOS</td>\n",
       "      <td>NaN</td>\n",
       "      <td>1.37kg</td>\n",
       "      <td>11912523.48</td>\n",
       "    </tr>\n",
       "    <tr>\n",
       "      <th>1</th>\n",
       "      <td>Apple</td>\n",
       "      <td>Macbook Air</td>\n",
       "      <td>Ultrabook</td>\n",
       "      <td>13.3\"</td>\n",
       "      <td>1440x900</td>\n",
       "      <td>Intel Core i5 1.8GHz</td>\n",
       "      <td>8GB</td>\n",
       "      <td>128GB Flash Storage</td>\n",
       "      <td>Intel HD Graphics 6000</td>\n",
       "      <td>macOS</td>\n",
       "      <td>NaN</td>\n",
       "      <td>1.34kg</td>\n",
       "      <td>7993374.48</td>\n",
       "    </tr>\n",
       "    <tr>\n",
       "      <th>2</th>\n",
       "      <td>HP</td>\n",
       "      <td>250 G6</td>\n",
       "      <td>Notebook</td>\n",
       "      <td>15.6\"</td>\n",
       "      <td>Full HD 1920x1080</td>\n",
       "      <td>Intel Core i5 7200U 2.5GHz</td>\n",
       "      <td>8GB</td>\n",
       "      <td>256GB SSD</td>\n",
       "      <td>Intel HD Graphics 620</td>\n",
       "      <td>No OS</td>\n",
       "      <td>NaN</td>\n",
       "      <td>1.86kg</td>\n",
       "      <td>5112900.00</td>\n",
       "    </tr>\n",
       "    <tr>\n",
       "      <th>3</th>\n",
       "      <td>Apple</td>\n",
       "      <td>MacBook Pro</td>\n",
       "      <td>Ultrabook</td>\n",
       "      <td>15.4\"</td>\n",
       "      <td>IPS Panel Retina Display 2880x1800</td>\n",
       "      <td>Intel Core i7 2.7GHz</td>\n",
       "      <td>16GB</td>\n",
       "      <td>512GB SSD</td>\n",
       "      <td>AMD Radeon Pro 455</td>\n",
       "      <td>macOS</td>\n",
       "      <td>NaN</td>\n",
       "      <td>1.83kg</td>\n",
       "      <td>22563005.40</td>\n",
       "    </tr>\n",
       "    <tr>\n",
       "      <th>4</th>\n",
       "      <td>Apple</td>\n",
       "      <td>MacBook Pro</td>\n",
       "      <td>Ultrabook</td>\n",
       "      <td>13.3\"</td>\n",
       "      <td>IPS Panel Retina Display 2560x1600</td>\n",
       "      <td>Intel Core i5 3.1GHz</td>\n",
       "      <td>8GB</td>\n",
       "      <td>256GB SSD</td>\n",
       "      <td>Intel Iris Plus Graphics 650</td>\n",
       "      <td>macOS</td>\n",
       "      <td>NaN</td>\n",
       "      <td>1.37kg</td>\n",
       "      <td>16037611.20</td>\n",
       "    </tr>\n",
       "    <tr>\n",
       "      <th>...</th>\n",
       "      <td>...</td>\n",
       "      <td>...</td>\n",
       "      <td>...</td>\n",
       "      <td>...</td>\n",
       "      <td>...</td>\n",
       "      <td>...</td>\n",
       "      <td>...</td>\n",
       "      <td>...</td>\n",
       "      <td>...</td>\n",
       "      <td>...</td>\n",
       "      <td>...</td>\n",
       "      <td>...</td>\n",
       "      <td>...</td>\n",
       "    </tr>\n",
       "    <tr>\n",
       "      <th>292</th>\n",
       "      <td>Lenovo</td>\n",
       "      <td>Yoga 500-14ISK</td>\n",
       "      <td>2 in 1 Convertible</td>\n",
       "      <td>14.0\"</td>\n",
       "      <td>IPS Panel Full HD / Touchscreen 1920x1080</td>\n",
       "      <td>Intel Core i7 6500U 2.5GHz</td>\n",
       "      <td>4GB</td>\n",
       "      <td>128GB SSD</td>\n",
       "      <td>Intel HD Graphics 520</td>\n",
       "      <td>Windows</td>\n",
       "      <td>10</td>\n",
       "      <td>1.8kg</td>\n",
       "      <td>5673096.00</td>\n",
       "    </tr>\n",
       "    <tr>\n",
       "      <th>293</th>\n",
       "      <td>Lenovo</td>\n",
       "      <td>Yoga 900-13ISK</td>\n",
       "      <td>2 in 1 Convertible</td>\n",
       "      <td>13.3\"</td>\n",
       "      <td>IPS Panel Quad HD+ / Touchscreen 3200x1800</td>\n",
       "      <td>Intel Core i7 6500U 2.5GHz</td>\n",
       "      <td>16GB</td>\n",
       "      <td>512GB SSD</td>\n",
       "      <td>Intel HD Graphics 520</td>\n",
       "      <td>Windows</td>\n",
       "      <td>10</td>\n",
       "      <td>1.3kg</td>\n",
       "      <td>13329108.00</td>\n",
       "    </tr>\n",
       "    <tr>\n",
       "      <th>294</th>\n",
       "      <td>Lenovo</td>\n",
       "      <td>IdeaPad 100S-14IBR</td>\n",
       "      <td>Notebook</td>\n",
       "      <td>14.0\"</td>\n",
       "      <td>1366x768</td>\n",
       "      <td>Intel Celeron Dual Core N3050 1.6GHz</td>\n",
       "      <td>2GB</td>\n",
       "      <td>64GB Flash Storage</td>\n",
       "      <td>Intel HD Graphics</td>\n",
       "      <td>Windows</td>\n",
       "      <td>10</td>\n",
       "      <td>1.5kg</td>\n",
       "      <td>2036268.00</td>\n",
       "    </tr>\n",
       "    <tr>\n",
       "      <th>295</th>\n",
       "      <td>HP</td>\n",
       "      <td>15-AC110nv (i7-6500U/6GB/1TB/Radeon</td>\n",
       "      <td>Notebook</td>\n",
       "      <td>15.6\"</td>\n",
       "      <td>1366x768</td>\n",
       "      <td>Intel Core i7 6500U 2.5GHz</td>\n",
       "      <td>6GB</td>\n",
       "      <td>1TB HDD</td>\n",
       "      <td>AMD Radeon R5 M330</td>\n",
       "      <td>Windows</td>\n",
       "      <td>10</td>\n",
       "      <td>2.19kg</td>\n",
       "      <td>6793488.00</td>\n",
       "    </tr>\n",
       "    <tr>\n",
       "      <th>296</th>\n",
       "      <td>Asus</td>\n",
       "      <td>X553SA-XX031T (N3050/4GB/500GB/W10)</td>\n",
       "      <td>Notebook</td>\n",
       "      <td>15.6\"</td>\n",
       "      <td>1366x768</td>\n",
       "      <td>Intel Celeron Dual Core N3050 1.6GHz</td>\n",
       "      <td>4GB</td>\n",
       "      <td>500GB HDD</td>\n",
       "      <td>Intel HD Graphics</td>\n",
       "      <td>Windows</td>\n",
       "      <td>10</td>\n",
       "      <td>2.2kg</td>\n",
       "      <td>3281148.00</td>\n",
       "    </tr>\n",
       "  </tbody>\n",
       "</table>\n",
       "<p>1274 rows × 13 columns</p>\n",
       "</div>"
      ],
      "text/plain": [
       "    Manufacturer                           Model_Name            Category  \\\n",
       "0          Apple                          MacBook Pro           Ultrabook   \n",
       "1          Apple                          Macbook Air           Ultrabook   \n",
       "2             HP                               250 G6            Notebook   \n",
       "3          Apple                          MacBook Pro           Ultrabook   \n",
       "4          Apple                          MacBook Pro           Ultrabook   \n",
       "..           ...                                  ...                 ...   \n",
       "292       Lenovo                       Yoga 500-14ISK  2 in 1 Convertible   \n",
       "293       Lenovo                       Yoga 900-13ISK  2 in 1 Convertible   \n",
       "294       Lenovo                   IdeaPad 100S-14IBR            Notebook   \n",
       "295           HP  15-AC110nv (i7-6500U/6GB/1TB/Radeon            Notebook   \n",
       "296         Asus  X553SA-XX031T (N3050/4GB/500GB/W10)            Notebook   \n",
       "\n",
       "    Screen_Size                                      Screen  \\\n",
       "0         13.3\"          IPS Panel Retina Display 2560x1600   \n",
       "1         13.3\"                                    1440x900   \n",
       "2         15.6\"                           Full HD 1920x1080   \n",
       "3         15.4\"          IPS Panel Retina Display 2880x1800   \n",
       "4         13.3\"          IPS Panel Retina Display 2560x1600   \n",
       "..          ...                                         ...   \n",
       "292       14.0\"   IPS Panel Full HD / Touchscreen 1920x1080   \n",
       "293       13.3\"  IPS Panel Quad HD+ / Touchscreen 3200x1800   \n",
       "294       14.0\"                                    1366x768   \n",
       "295       15.6\"                                    1366x768   \n",
       "296       15.6\"                                    1366x768   \n",
       "\n",
       "                                      CPU   RAM              Storage  \\\n",
       "0                    Intel Core i5 2.3GHz   8GB            128GB SSD   \n",
       "1                    Intel Core i5 1.8GHz   8GB  128GB Flash Storage   \n",
       "2              Intel Core i5 7200U 2.5GHz   8GB            256GB SSD   \n",
       "3                    Intel Core i7 2.7GHz  16GB            512GB SSD   \n",
       "4                    Intel Core i5 3.1GHz   8GB            256GB SSD   \n",
       "..                                    ...   ...                  ...   \n",
       "292            Intel Core i7 6500U 2.5GHz   4GB            128GB SSD   \n",
       "293            Intel Core i7 6500U 2.5GHz  16GB            512GB SSD   \n",
       "294  Intel Celeron Dual Core N3050 1.6GHz   2GB   64GB Flash Storage   \n",
       "295            Intel Core i7 6500U 2.5GHz   6GB              1TB HDD   \n",
       "296  Intel Celeron Dual Core N3050 1.6GHz   4GB            500GB HDD   \n",
       "\n",
       "                              GPU       OS OS_Version  Weight        Price  \n",
       "0    Intel Iris Plus Graphics 640    macOS        NaN  1.37kg  11912523.48  \n",
       "1          Intel HD Graphics 6000    macOS        NaN  1.34kg   7993374.48  \n",
       "2           Intel HD Graphics 620    No OS        NaN  1.86kg   5112900.00  \n",
       "3              AMD Radeon Pro 455    macOS        NaN  1.83kg  22563005.40  \n",
       "4    Intel Iris Plus Graphics 650    macOS        NaN  1.37kg  16037611.20  \n",
       "..                            ...      ...        ...     ...          ...  \n",
       "292         Intel HD Graphics 520  Windows         10   1.8kg   5673096.00  \n",
       "293         Intel HD Graphics 520  Windows         10   1.3kg  13329108.00  \n",
       "294             Intel HD Graphics  Windows         10   1.5kg   2036268.00  \n",
       "295            AMD Radeon R5 M330  Windows         10  2.19kg   6793488.00  \n",
       "296             Intel HD Graphics  Windows         10   2.2kg   3281148.00  \n",
       "\n",
       "[1274 rows x 13 columns]"
      ]
     },
     "execution_count": 8,
     "metadata": {},
     "output_type": "execute_result"
    }
   ],
   "source": [
    "df.drop_duplicates()"
   ]
  },
  {
   "cell_type": "code",
   "execution_count": 9,
   "id": "c6b58a75",
   "metadata": {
    "execution": {
     "iopub.execute_input": "2023-09-13T07:33:04.962610Z",
     "iopub.status.busy": "2023-09-13T07:33:04.961851Z",
     "iopub.status.idle": "2023-09-13T07:33:04.972012Z",
     "shell.execute_reply": "2023-09-13T07:33:04.970922Z"
    },
    "papermill": {
     "duration": 0.027303,
     "end_time": "2023-09-13T07:33:04.974357",
     "exception": false,
     "start_time": "2023-09-13T07:33:04.947054",
     "status": "completed"
    },
    "tags": []
   },
   "outputs": [
    {
     "data": {
      "text/plain": [
       "Manufacturer      0\n",
       "Model_Name        0\n",
       "Category          0\n",
       "Screen_Size       0\n",
       "Screen            0\n",
       "CPU               0\n",
       "RAM               0\n",
       " Storage          0\n",
       "GPU               0\n",
       "OS                0\n",
       "OS_Version      170\n",
       "Weight            0\n",
       "Price             0\n",
       "dtype: int64"
      ]
     },
     "execution_count": 9,
     "metadata": {},
     "output_type": "execute_result"
    }
   ],
   "source": [
    "df.isnull().sum()"
   ]
  },
  {
   "cell_type": "code",
   "execution_count": 10,
   "id": "1aa43706",
   "metadata": {
    "execution": {
     "iopub.execute_input": "2023-09-13T07:33:05.003004Z",
     "iopub.status.busy": "2023-09-13T07:33:05.001888Z",
     "iopub.status.idle": "2023-09-13T07:33:05.011363Z",
     "shell.execute_reply": "2023-09-13T07:33:05.010076Z"
    },
    "papermill": {
     "duration": 0.026653,
     "end_time": "2023-09-13T07:33:05.013608",
     "exception": false,
     "start_time": "2023-09-13T07:33:04.986955",
     "status": "completed"
    },
    "tags": []
   },
   "outputs": [
    {
     "data": {
      "text/plain": [
       "OS_Version\n",
       "10      1071\n",
       "7         45\n",
       "X          8\n",
       "10 S       8\n",
       "Name: count, dtype: int64"
      ]
     },
     "execution_count": 10,
     "metadata": {},
     "output_type": "execute_result"
    }
   ],
   "source": [
    "df['OS_Version'].value_counts()"
   ]
  },
  {
   "cell_type": "code",
   "execution_count": 11,
   "id": "877ffe3a",
   "metadata": {
    "execution": {
     "iopub.execute_input": "2023-09-13T07:33:05.041019Z",
     "iopub.status.busy": "2023-09-13T07:33:05.040338Z",
     "iopub.status.idle": "2023-09-13T07:33:05.049718Z",
     "shell.execute_reply": "2023-09-13T07:33:05.048346Z"
    },
    "papermill": {
     "duration": 0.02572,
     "end_time": "2023-09-13T07:33:05.051994",
     "exception": false,
     "start_time": "2023-09-13T07:33:05.026274",
     "status": "completed"
    },
    "tags": []
   },
   "outputs": [
    {
     "data": {
      "text/plain": [
       "0      10\n",
       "1      10\n",
       "2      10\n",
       "3      10\n",
       "4      10\n",
       "       ..\n",
       "320    10\n",
       "321    10\n",
       "322    10\n",
       "323    10\n",
       "324    10\n",
       "Name: OS_Version, Length: 1302, dtype: object"
      ]
     },
     "execution_count": 11,
     "metadata": {},
     "output_type": "execute_result"
    }
   ],
   "source": [
    "df['OS_Version'].fillna(df['OS_Version'].mode()[0])"
   ]
  },
  {
   "cell_type": "code",
   "execution_count": 12,
   "id": "8bdadfba",
   "metadata": {
    "execution": {
     "iopub.execute_input": "2023-09-13T07:33:05.080125Z",
     "iopub.status.busy": "2023-09-13T07:33:05.079653Z",
     "iopub.status.idle": "2023-09-13T07:33:05.089378Z",
     "shell.execute_reply": "2023-09-13T07:33:05.088234Z"
    },
    "papermill": {
     "duration": 0.02697,
     "end_time": "2023-09-13T07:33:05.091885",
     "exception": false,
     "start_time": "2023-09-13T07:33:05.064915",
     "status": "completed"
    },
    "tags": []
   },
   "outputs": [
    {
     "data": {
      "text/plain": [
       "Manufacturer      0\n",
       "Model_Name        0\n",
       "Category          0\n",
       "Screen_Size       0\n",
       "Screen            0\n",
       "CPU               0\n",
       "RAM               0\n",
       " Storage          0\n",
       "GPU               0\n",
       "OS                0\n",
       "OS_Version      170\n",
       "Weight            0\n",
       "Price             0\n",
       "dtype: int64"
      ]
     },
     "execution_count": 12,
     "metadata": {},
     "output_type": "execute_result"
    }
   ],
   "source": [
    "df.isnull().sum()"
   ]
  },
  {
   "cell_type": "code",
   "execution_count": 13,
   "id": "1fa195a1",
   "metadata": {
    "execution": {
     "iopub.execute_input": "2023-09-13T07:33:05.119462Z",
     "iopub.status.busy": "2023-09-13T07:33:05.119039Z",
     "iopub.status.idle": "2023-09-13T07:33:05.141126Z",
     "shell.execute_reply": "2023-09-13T07:33:05.139912Z"
    },
    "papermill": {
     "duration": 0.039173,
     "end_time": "2023-09-13T07:33:05.143886",
     "exception": false,
     "start_time": "2023-09-13T07:33:05.104713",
     "status": "completed"
    },
    "tags": []
   },
   "outputs": [
    {
     "name": "stdout",
     "output_type": "stream",
     "text": [
      "Manufacturer\n",
      "Dell         297\n",
      "Lenovo       297\n",
      "HP           274\n",
      "Asus         157\n",
      "Acer         103\n",
      "MSI           54\n",
      "Toshiba       48\n",
      "Apple         21\n",
      "Samsung        9\n",
      "Razer          7\n",
      "Mediacom       7\n",
      "Microsoft      6\n",
      "Xiaomi         4\n",
      "Vero           4\n",
      "Chuwi          3\n",
      "Google         3\n",
      "Fujitsu        3\n",
      "LG             3\n",
      "Huawei         2\n",
      "Name: count, dtype: int64 \n",
      "\n",
      "Model_Name\n",
      "XPS 13                                  30\n",
      "Inspiron 3567                           29\n",
      "250 G6                                  21\n",
      "Legion Y520-15IKBN                      19\n",
      "Vostro 3568                             19\n",
      "                                        ..\n",
      "SmartBook 130                            1\n",
      "A541NA-GO342 (N3350/4GB/500GB/Linux)     1\n",
      "17-X047na (i3-6006U/8GB/1TB/W10)         1\n",
      "V310-15ISK (i5-6200U/4GB/1TB/FHD/No      1\n",
      "15-cd005nv (A9-9420/6GB/256GB/Radeon     1\n",
      "Name: count, Length: 617, dtype: int64 \n",
      "\n",
      "Category\n",
      "Notebook              727\n",
      "Gaming                205\n",
      "Ultrabook             196\n",
      "2 in 1 Convertible    120\n",
      "Workstation            29\n",
      "Netbook                25\n",
      "Name: count, dtype: int64 \n",
      "\n",
      "Screen_Size\n",
      "15.6\"    664\n",
      "14.0\"    197\n",
      "13.3\"    164\n",
      "17.3\"    164\n",
      "12.5\"     39\n",
      "11.6\"     33\n",
      "12.0\"      6\n",
      "13.5\"      6\n",
      "13.9\"      6\n",
      "12.3\"      5\n",
      "10.1\"      4\n",
      "15.4\"      4\n",
      "15.0\"      4\n",
      "13.0\"      2\n",
      "18.4\"      1\n",
      "17.0\"      1\n",
      "14.1\"      1\n",
      "11.3\"      1\n",
      "Name: count, dtype: int64 \n",
      "\n",
      "Screen\n",
      "Full HD 1920x1080                                507\n",
      "1366x768                                         281\n",
      "IPS Panel Full HD 1920x1080                      230\n",
      "IPS Panel Full HD / Touchscreen 1920x1080         53\n",
      "Full HD / Touchscreen 1920x1080                   47\n",
      "1600x900                                          23\n",
      "Touchscreen 1366x768                              16\n",
      "Quad HD+ / Touchscreen 3200x1800                  15\n",
      "IPS Panel 4K Ultra HD 3840x2160                   12\n",
      "IPS Panel 4K Ultra HD / Touchscreen 3840x2160     11\n",
      "4K Ultra HD / Touchscreen 3840x2160                9\n",
      "4K Ultra HD 3840x2160                              7\n",
      "Touchscreen 2560x1440                              7\n",
      "IPS Panel 1366x768                                 7\n",
      "IPS Panel Quad HD+ / Touchscreen 3200x1800         6\n",
      "IPS Panel Retina Display 2560x1600                 6\n",
      "IPS Panel Retina Display 2304x1440                 6\n",
      "Touchscreen 2256x1504                              6\n",
      "IPS Panel Touchscreen 2560x1440                    5\n",
      "IPS Panel Retina Display 2880x1800                 4\n",
      "IPS Panel Touchscreen 1920x1200                    4\n",
      "1440x900                                           4\n",
      "IPS Panel 2560x1440                                4\n",
      "IPS Panel Quad HD+ 2560x1440                       3\n",
      "Quad HD+ 3200x1800                                 3\n",
      "1920x1080                                          3\n",
      "Touchscreen 2400x1600                              3\n",
      "2560x1440                                          3\n",
      "IPS Panel Touchscreen 1366x768                     3\n",
      "IPS Panel Touchscreen / 4K Ultra HD 3840x2160      2\n",
      "IPS Panel Full HD 2160x1440                        2\n",
      "IPS Panel Quad HD+ 3200x1800                       2\n",
      "IPS Panel Retina Display 2736x1824                 1\n",
      "IPS Panel Full HD 1920x1200                        1\n",
      "IPS Panel Full HD 2560x1440                        1\n",
      "IPS Panel Full HD 1366x768                         1\n",
      "Touchscreen / Full HD 1920x1080                    1\n",
      "Touchscreen / Quad HD+ 3200x1800                   1\n",
      "Touchscreen / 4K Ultra HD 3840x2160                1\n",
      "IPS Panel Touchscreen 2400x1600                    1\n",
      "Name: count, dtype: int64 \n",
      "\n",
      "CPU\n",
      "Intel Core i5 7200U 2.5GHz       190\n",
      "Intel Core i7 7700HQ 2.8GHz      146\n",
      "Intel Core i7 7500U 2.7GHz       133\n",
      "Intel Core i7 8550U 1.8GHz        73\n",
      "Intel Core i5 8250U 1.6GHz        72\n",
      "                                ... \n",
      "Intel Core M M3-6Y30 0.9GHz        1\n",
      "AMD A9-Series 9420 2.9GHz          1\n",
      "Intel Core i3 6006U 2.2GHz         1\n",
      "AMD A6-Series 7310 2GHz            1\n",
      "Intel Xeon E3-1535M v6 3.1GHz      1\n",
      "Name: count, Length: 118, dtype: int64 \n",
      "\n",
      "RAM\n",
      "8GB     619\n",
      "4GB     375\n",
      "16GB    199\n",
      "6GB      41\n",
      "12GB     25\n",
      "2GB      22\n",
      "32GB     17\n",
      "24GB      3\n",
      "64GB      1\n",
      "Name: count, dtype: int64 \n",
      "\n",
      " Storage\n",
      "256GB SSD                        412\n",
      "1TB HDD                          224\n",
      "500GB HDD                        132\n",
      "512GB SSD                        118\n",
      "128GB SSD +  1TB HDD              94\n",
      "128GB SSD                         76\n",
      "256GB SSD +  1TB HDD              73\n",
      "32GB Flash Storage                38\n",
      "2TB HDD                           16\n",
      "64GB Flash Storage                15\n",
      "512GB SSD +  1TB HDD              14\n",
      "1TB SSD                           14\n",
      "256GB SSD +  2TB HDD              10\n",
      "1TB Hybrid                         9\n",
      "256GB Flash Storage                8\n",
      "16GB Flash Storage                 7\n",
      "32GB SSD                           6\n",
      "1GB SSD                            5\n",
      "128GB Flash Storage                4\n",
      "16GB SSD                           3\n",
      "512GB Flash Storage                2\n",
      "1TB SSD +  1TB HDD                 2\n",
      "512GB SSD +  2TB HDD               2\n",
      "256GB SSD +  500GB HDD             2\n",
      "128GB SSD +  2TB HDD               2\n",
      "256GB SSD +  256GB SSD             2\n",
      "512GB SSD +  256GB SSD             1\n",
      "512GB SSD +  512GB SSD             1\n",
      "64GB Flash Storage +  1TB HDD      1\n",
      "1TB HDD +  1TB HDD                 1\n",
      "32GB HDD                           1\n",
      "64GB SSD                           1\n",
      "128GB HDD                          1\n",
      "240GB SSD                          1\n",
      "8GB SSD                            1\n",
      "508GB Hybrid                       1\n",
      "512GB SSD +  1TB Hybrid            1\n",
      "256GB SSD +  1TB Hybrid            1\n",
      "Name: count, dtype: int64 \n",
      "\n",
      "GPU\n",
      "Intel HD Graphics 620      281\n",
      "Intel HD Graphics 520      185\n",
      "Intel UHD Graphics 620      68\n",
      "Nvidia GeForce GTX 1050     66\n",
      "Nvidia GeForce GTX 1060     48\n",
      "                          ... \n",
      "AMD Radeon R5 520            1\n",
      "AMD Radeon R7                1\n",
      "Intel HD Graphics 540        1\n",
      "AMD Radeon 540               1\n",
      "ARM Mali T860 MP4            1\n",
      "Name: count, Length: 110, dtype: int64 \n",
      "\n",
      "OS\n",
      "Windows      1124\n",
      "No OS          66\n",
      "Linux          62\n",
      "Chrome OS      27\n",
      "macOS          13\n",
      "Mac OS          8\n",
      "Android         2\n",
      "Name: count, dtype: int64 \n",
      "\n",
      "OS_Version\n",
      "10      1071\n",
      "7         45\n",
      "X          8\n",
      "10 S       8\n",
      "Name: count, dtype: int64 \n",
      "\n",
      "Weight\n",
      "2.2kg     121\n",
      "2.1kg      58\n",
      "2.4kg      44\n",
      "2.3kg      40\n",
      "2.5kg      38\n",
      "         ... \n",
      "3.25kg      1\n",
      "4.7kg       1\n",
      "1.55kg      1\n",
      "1.18kg      1\n",
      "4.0kg       1\n",
      "Name: count, Length: 179, dtype: int64 \n",
      "\n",
      "Price\n",
      "13329108.0    14\n",
      "9772308.0     14\n",
      "15996708.0    13\n",
      "7993908.0     11\n",
      "10661508.0    11\n",
      "              ..\n",
      "18584280.0     1\n",
      "2703168.0      1\n",
      "6749028.0      1\n",
      "16521336.0     1\n",
      "23999508.0     1\n",
      "Name: count, Length: 791, dtype: int64 \n",
      "\n"
     ]
    }
   ],
   "source": [
    "for i in df.columns:\n",
    "     print(df[i].value_counts(),'\\n')"
   ]
  },
  {
   "cell_type": "code",
   "execution_count": 14,
   "id": "727f0569",
   "metadata": {
    "execution": {
     "iopub.execute_input": "2023-09-13T07:33:05.172535Z",
     "iopub.status.busy": "2023-09-13T07:33:05.172130Z",
     "iopub.status.idle": "2023-09-13T07:33:05.177656Z",
     "shell.execute_reply": "2023-09-13T07:33:05.176389Z"
    },
    "papermill": {
     "duration": 0.022748,
     "end_time": "2023-09-13T07:33:05.180010",
     "exception": false,
     "start_time": "2023-09-13T07:33:05.157262",
     "status": "completed"
    },
    "tags": []
   },
   "outputs": [],
   "source": [
    "def order(x,num): return df[x].value_counts().head(num).index"
   ]
  },
  {
   "cell_type": "markdown",
   "id": "190c45f3",
   "metadata": {
    "papermill": {
     "duration": 0.095568,
     "end_time": "2023-09-13T07:33:05.288839",
     "exception": false,
     "start_time": "2023-09-13T07:33:05.193271",
     "status": "completed"
    },
    "tags": []
   },
   "source": [
    "**LAPTOP MANUFACTURER**"
   ]
  },
  {
   "cell_type": "code",
   "execution_count": 15,
   "id": "059fe544",
   "metadata": {
    "execution": {
     "iopub.execute_input": "2023-09-13T07:33:05.318162Z",
     "iopub.status.busy": "2023-09-13T07:33:05.317716Z",
     "iopub.status.idle": "2023-09-13T07:33:05.752137Z",
     "shell.execute_reply": "2023-09-13T07:33:05.750843Z"
    },
    "papermill": {
     "duration": 0.453185,
     "end_time": "2023-09-13T07:33:05.755617",
     "exception": false,
     "start_time": "2023-09-13T07:33:05.302432",
     "status": "completed"
    },
    "tags": []
   },
   "outputs": [
    {
     "data": {
      "text/plain": [
       "<Axes: title={'center': 'popular manufacturer of laptops'}, xlabel='count', ylabel='Manufacturer'>"
      ]
     },
     "execution_count": 15,
     "metadata": {},
     "output_type": "execute_result"
    },
    {
     "data": {
      "image/png": "[encoded data removed]",
      "text/plain": [
       "<Figure size 640x480 with 1 Axes>"
      ]
     },
     "metadata": {},
     "output_type": "display_data"
    }
   ],
   "source": [
    "plt.title(\"popular manufacturer of laptops\")\n",
    "sns.countplot(y=df['Manufacturer'],order=order('Manufacturer',15))"
   ]
  },
  {
   "cell_type": "code",
   "execution_count": 16,
   "id": "a6265a73",
   "metadata": {
    "execution": {
     "iopub.execute_input": "2023-09-13T07:33:05.786570Z",
     "iopub.status.busy": "2023-09-13T07:33:05.786149Z",
     "iopub.status.idle": "2023-09-13T07:33:05.957890Z",
     "shell.execute_reply": "2023-09-13T07:33:05.956558Z"
    },
    "papermill": {
     "duration": 0.190379,
     "end_time": "2023-09-13T07:33:05.960648",
     "exception": false,
     "start_time": "2023-09-13T07:33:05.770269",
     "status": "completed"
    },
    "tags": []
   },
   "outputs": [],
   "source": [
    "from sklearn.preprocessing import LabelEncoder\n",
    "lr=LabelEncoder()\n",
    "df['Manufacturer']=lr.fit_transform(df['Manufacturer'])"
   ]
  },
  {
   "cell_type": "code",
   "execution_count": 17,
   "id": "b2e8ed9e",
   "metadata": {
    "execution": {
     "iopub.execute_input": "2023-09-13T07:33:05.991414Z",
     "iopub.status.busy": "2023-09-13T07:33:05.990408Z",
     "iopub.status.idle": "2023-09-13T07:33:05.997248Z",
     "shell.execute_reply": "2023-09-13T07:33:05.996031Z"
    },
    "papermill": {
     "duration": 0.02481,
     "end_time": "2023-09-13T07:33:05.999719",
     "exception": false,
     "start_time": "2023-09-13T07:33:05.974909",
     "status": "completed"
    },
    "tags": []
   },
   "outputs": [
    {
     "name": "stdout",
     "output_type": "stream",
     "text": [
      "['Acer' 'Apple' 'Asus' 'Chuwi' 'Dell' 'Fujitsu' 'Google' 'HP' 'Huawei'\n",
      " 'LG' 'Lenovo' 'MSI' 'Mediacom' 'Microsoft' 'Razer' 'Samsung' 'Toshiba'\n",
      " 'Vero' 'Xiaomi']\n"
     ]
    }
   ],
   "source": [
    "print(lr.classes_)"
   ]
  },
  {
   "cell_type": "code",
   "execution_count": 18,
   "id": "0d6ad670",
   "metadata": {
    "execution": {
     "iopub.execute_input": "2023-09-13T07:33:06.030563Z",
     "iopub.status.busy": "2023-09-13T07:33:06.030128Z",
     "iopub.status.idle": "2023-09-13T07:33:06.048587Z",
     "shell.execute_reply": "2023-09-13T07:33:06.047434Z"
    },
    "papermill": {
     "duration": 0.036452,
     "end_time": "2023-09-13T07:33:06.050862",
     "exception": false,
     "start_time": "2023-09-13T07:33:06.014410",
     "status": "completed"
    },
    "tags": []
   },
   "outputs": [
    {
     "data": {
      "text/html": [
       "<div>\n",
       "<style scoped>\n",
       "    .dataframe tbody tr th:only-of-type {\n",
       "        vertical-align: middle;\n",
       "    }\n",
       "\n",
       "    .dataframe tbody tr th {\n",
       "        vertical-align: top;\n",
       "    }\n",
       "\n",
       "    .dataframe thead th {\n",
       "        text-align: right;\n",
       "    }\n",
       "</style>\n",
       "<table border=\"1\" class=\"dataframe\">\n",
       "  <thead>\n",
       "    <tr style=\"text-align: right;\">\n",
       "      <th></th>\n",
       "      <th>Manufacturer</th>\n",
       "      <th>Model_Name</th>\n",
       "      <th>Category</th>\n",
       "      <th>Screen_Size</th>\n",
       "      <th>Screen</th>\n",
       "      <th>CPU</th>\n",
       "      <th>RAM</th>\n",
       "      <th>Storage</th>\n",
       "      <th>GPU</th>\n",
       "      <th>OS</th>\n",
       "      <th>OS_Version</th>\n",
       "      <th>Weight</th>\n",
       "      <th>Price</th>\n",
       "    </tr>\n",
       "  </thead>\n",
       "  <tbody>\n",
       "    <tr>\n",
       "      <th>0</th>\n",
       "      <td>1</td>\n",
       "      <td>MacBook Pro</td>\n",
       "      <td>Ultrabook</td>\n",
       "      <td>13.3\"</td>\n",
       "      <td>IPS Panel Retina Display 2560x1600</td>\n",
       "      <td>Intel Core i5 2.3GHz</td>\n",
       "      <td>8GB</td>\n",
       "      <td>128GB SSD</td>\n",
       "      <td>Intel Iris Plus Graphics 640</td>\n",
       "      <td>macOS</td>\n",
       "      <td>NaN</td>\n",
       "      <td>1.37kg</td>\n",
       "      <td>11912523.48</td>\n",
       "    </tr>\n",
       "    <tr>\n",
       "      <th>1</th>\n",
       "      <td>1</td>\n",
       "      <td>Macbook Air</td>\n",
       "      <td>Ultrabook</td>\n",
       "      <td>13.3\"</td>\n",
       "      <td>1440x900</td>\n",
       "      <td>Intel Core i5 1.8GHz</td>\n",
       "      <td>8GB</td>\n",
       "      <td>128GB Flash Storage</td>\n",
       "      <td>Intel HD Graphics 6000</td>\n",
       "      <td>macOS</td>\n",
       "      <td>NaN</td>\n",
       "      <td>1.34kg</td>\n",
       "      <td>7993374.48</td>\n",
       "    </tr>\n",
       "    <tr>\n",
       "      <th>2</th>\n",
       "      <td>7</td>\n",
       "      <td>250 G6</td>\n",
       "      <td>Notebook</td>\n",
       "      <td>15.6\"</td>\n",
       "      <td>Full HD 1920x1080</td>\n",
       "      <td>Intel Core i5 7200U 2.5GHz</td>\n",
       "      <td>8GB</td>\n",
       "      <td>256GB SSD</td>\n",
       "      <td>Intel HD Graphics 620</td>\n",
       "      <td>No OS</td>\n",
       "      <td>NaN</td>\n",
       "      <td>1.86kg</td>\n",
       "      <td>5112900.00</td>\n",
       "    </tr>\n",
       "    <tr>\n",
       "      <th>3</th>\n",
       "      <td>1</td>\n",
       "      <td>MacBook Pro</td>\n",
       "      <td>Ultrabook</td>\n",
       "      <td>15.4\"</td>\n",
       "      <td>IPS Panel Retina Display 2880x1800</td>\n",
       "      <td>Intel Core i7 2.7GHz</td>\n",
       "      <td>16GB</td>\n",
       "      <td>512GB SSD</td>\n",
       "      <td>AMD Radeon Pro 455</td>\n",
       "      <td>macOS</td>\n",
       "      <td>NaN</td>\n",
       "      <td>1.83kg</td>\n",
       "      <td>22563005.40</td>\n",
       "    </tr>\n",
       "    <tr>\n",
       "      <th>4</th>\n",
       "      <td>1</td>\n",
       "      <td>MacBook Pro</td>\n",
       "      <td>Ultrabook</td>\n",
       "      <td>13.3\"</td>\n",
       "      <td>IPS Panel Retina Display 2560x1600</td>\n",
       "      <td>Intel Core i5 3.1GHz</td>\n",
       "      <td>8GB</td>\n",
       "      <td>256GB SSD</td>\n",
       "      <td>Intel Iris Plus Graphics 650</td>\n",
       "      <td>macOS</td>\n",
       "      <td>NaN</td>\n",
       "      <td>1.37kg</td>\n",
       "      <td>16037611.20</td>\n",
       "    </tr>\n",
       "  </tbody>\n",
       "</table>\n",
       "</div>"
      ],
      "text/plain": [
       "   Manufacturer   Model_Name   Category Screen_Size  \\\n",
       "0             1  MacBook Pro  Ultrabook       13.3\"   \n",
       "1             1  Macbook Air  Ultrabook       13.3\"   \n",
       "2             7       250 G6   Notebook       15.6\"   \n",
       "3             1  MacBook Pro  Ultrabook       15.4\"   \n",
       "4             1  MacBook Pro  Ultrabook       13.3\"   \n",
       "\n",
       "                               Screen                         CPU   RAM  \\\n",
       "0  IPS Panel Retina Display 2560x1600        Intel Core i5 2.3GHz   8GB   \n",
       "1                            1440x900        Intel Core i5 1.8GHz   8GB   \n",
       "2                   Full HD 1920x1080  Intel Core i5 7200U 2.5GHz   8GB   \n",
       "3  IPS Panel Retina Display 2880x1800        Intel Core i7 2.7GHz  16GB   \n",
       "4  IPS Panel Retina Display 2560x1600        Intel Core i5 3.1GHz   8GB   \n",
       "\n",
       "               Storage                           GPU     OS OS_Version  \\\n",
       "0            128GB SSD  Intel Iris Plus Graphics 640  macOS        NaN   \n",
       "1  128GB Flash Storage        Intel HD Graphics 6000  macOS        NaN   \n",
       "2            256GB SSD         Intel HD Graphics 620  No OS        NaN   \n",
       "3            512GB SSD            AMD Radeon Pro 455  macOS        NaN   \n",
       "4            256GB SSD  Intel Iris Plus Graphics 650  macOS        NaN   \n",
       "\n",
       "   Weight        Price  \n",
       "0  1.37kg  11912523.48  \n",
       "1  1.34kg   7993374.48  \n",
       "2  1.86kg   5112900.00  \n",
       "3  1.83kg  22563005.40  \n",
       "4  1.37kg  16037611.20  "
      ]
     },
     "execution_count": 18,
     "metadata": {},
     "output_type": "execute_result"
    }
   ],
   "source": [
    "df.head()"
   ]
  },
  {
   "cell_type": "markdown",
   "id": "545ffa52",
   "metadata": {
    "papermill": {
     "duration": 0.014608,
     "end_time": "2023-09-13T07:33:06.080793",
     "exception": false,
     "start_time": "2023-09-13T07:33:06.066185",
     "status": "completed"
    },
    "tags": []
   },
   "source": [
    "model name"
   ]
  },
  {
   "cell_type": "code",
   "execution_count": 19,
   "id": "5f001b4d",
   "metadata": {
    "execution": {
     "iopub.execute_input": "2023-09-13T07:33:06.111839Z",
     "iopub.status.busy": "2023-09-13T07:33:06.111361Z",
     "iopub.status.idle": "2023-09-13T07:33:06.120097Z",
     "shell.execute_reply": "2023-09-13T07:33:06.118815Z"
    },
    "papermill": {
     "duration": 0.027313,
     "end_time": "2023-09-13T07:33:06.122596",
     "exception": false,
     "start_time": "2023-09-13T07:33:06.095283",
     "status": "completed"
    },
    "tags": []
   },
   "outputs": [
    {
     "data": {
      "text/plain": [
       "617"
      ]
     },
     "execution_count": 19,
     "metadata": {},
     "output_type": "execute_result"
    }
   ],
   "source": [
    "df['Model_Name'].nunique()"
   ]
  },
  {
   "cell_type": "code",
   "execution_count": 20,
   "id": "89cb242e",
   "metadata": {
    "execution": {
     "iopub.execute_input": "2023-09-13T07:33:06.155246Z",
     "iopub.status.busy": "2023-09-13T07:33:06.154742Z",
     "iopub.status.idle": "2023-09-13T07:33:06.164523Z",
     "shell.execute_reply": "2023-09-13T07:33:06.163114Z"
    },
    "papermill": {
     "duration": 0.028997,
     "end_time": "2023-09-13T07:33:06.166990",
     "exception": false,
     "start_time": "2023-09-13T07:33:06.137993",
     "status": "completed"
    },
    "tags": []
   },
   "outputs": [
    {
     "data": {
      "text/plain": [
       "617"
      ]
     },
     "execution_count": 20,
     "metadata": {},
     "output_type": "execute_result"
    }
   ],
   "source": [
    "len(df['Model_Name'].value_counts())"
   ]
  },
  {
   "cell_type": "code",
   "execution_count": 21,
   "id": "6a2d47b6",
   "metadata": {
    "execution": {
     "iopub.execute_input": "2023-09-13T07:33:06.200123Z",
     "iopub.status.busy": "2023-09-13T07:33:06.199662Z",
     "iopub.status.idle": "2023-09-13T07:33:06.205752Z",
     "shell.execute_reply": "2023-09-13T07:33:06.204857Z"
    },
    "papermill": {
     "duration": 0.02557,
     "end_time": "2023-09-13T07:33:06.207783",
     "exception": false,
     "start_time": "2023-09-13T07:33:06.182213",
     "status": "completed"
    },
    "tags": []
   },
   "outputs": [],
   "source": [
    "df.drop('Model_Name',axis=1,inplace=True)"
   ]
  },
  {
   "cell_type": "markdown",
   "id": "4a1d9cd9",
   "metadata": {
    "papermill": {
     "duration": 0.014621,
     "end_time": "2023-09-13T07:33:06.237523",
     "exception": false,
     "start_time": "2023-09-13T07:33:06.222902",
     "status": "completed"
    },
    "tags": []
   },
   "source": [
    "category of laptops"
   ]
  },
  {
   "cell_type": "code",
   "execution_count": 22,
   "id": "227ba7eb",
   "metadata": {
    "execution": {
     "iopub.execute_input": "2023-09-13T07:33:06.269759Z",
     "iopub.status.busy": "2023-09-13T07:33:06.269314Z",
     "iopub.status.idle": "2023-09-13T07:33:06.567233Z",
     "shell.execute_reply": "2023-09-13T07:33:06.565877Z"
    },
    "papermill": {
     "duration": 0.316761,
     "end_time": "2023-09-13T07:33:06.569643",
     "exception": false,
     "start_time": "2023-09-13T07:33:06.252882",
     "status": "completed"
    },
    "tags": []
   },
   "outputs": [
    {
     "data": {
      "text/plain": [
       "<Axes: title={'center': 'Laptops popularity by category'}, xlabel='count', ylabel='Category'>"
      ]
     },
     "execution_count": 22,
     "metadata": {},
     "output_type": "execute_result"
    },
    {
     "data": {
      "image/png": "[encoded data removed]",
      "text/plain": [
       "<Figure size 640x480 with 1 Axes>"
      ]
     },
     "metadata": {},
     "output_type": "display_data"
    }
   ],
   "source": [
    "plt.title('Laptops popularity by category')\n",
    "sns.countplot(y=df['Category'],order=order('Category',10))"
   ]
  },
  {
   "cell_type": "code",
   "execution_count": 23,
   "id": "ea31a949",
   "metadata": {
    "execution": {
     "iopub.execute_input": "2023-09-13T07:33:06.603400Z",
     "iopub.status.busy": "2023-09-13T07:33:06.602959Z",
     "iopub.status.idle": "2023-09-13T07:33:06.609813Z",
     "shell.execute_reply": "2023-09-13T07:33:06.608823Z"
    },
    "papermill": {
     "duration": 0.026581,
     "end_time": "2023-09-13T07:33:06.612263",
     "exception": false,
     "start_time": "2023-09-13T07:33:06.585682",
     "status": "completed"
    },
    "tags": []
   },
   "outputs": [],
   "source": [
    "df['Category'].replace({\"Netbook\":\"Notebook\"},inplace=True)\n"
   ]
  },
  {
   "cell_type": "code",
   "execution_count": 24,
   "id": "4d4d01eb",
   "metadata": {
    "execution": {
     "iopub.execute_input": "2023-09-13T07:33:06.646538Z",
     "iopub.status.busy": "2023-09-13T07:33:06.646069Z",
     "iopub.status.idle": "2023-09-13T07:33:06.653945Z",
     "shell.execute_reply": "2023-09-13T07:33:06.652802Z"
    },
    "papermill": {
     "duration": 0.02852,
     "end_time": "2023-09-13T07:33:06.656382",
     "exception": false,
     "start_time": "2023-09-13T07:33:06.627862",
     "status": "completed"
    },
    "tags": []
   },
   "outputs": [
    {
     "data": {
      "text/plain": [
       "array(['Ultrabook', 'Notebook', 'Gaming', '2 in 1 Convertible',\n",
       "       'Workstation'], dtype=object)"
      ]
     },
     "execution_count": 24,
     "metadata": {},
     "output_type": "execute_result"
    }
   ],
   "source": [
    "df['Category'].unique()"
   ]
  },
  {
   "cell_type": "code",
   "execution_count": 25,
   "id": "f05757d4",
   "metadata": {
    "execution": {
     "iopub.execute_input": "2023-09-13T07:33:06.689739Z",
     "iopub.status.busy": "2023-09-13T07:33:06.689246Z",
     "iopub.status.idle": "2023-09-13T07:33:06.696126Z",
     "shell.execute_reply": "2023-09-13T07:33:06.694903Z"
    },
    "papermill": {
     "duration": 0.026405,
     "end_time": "2023-09-13T07:33:06.698614",
     "exception": false,
     "start_time": "2023-09-13T07:33:06.672209",
     "status": "completed"
    },
    "tags": []
   },
   "outputs": [],
   "source": [
    "lr=LabelEncoder()\n",
    "df['Category']=lr.fit_transform(df['Category'])"
   ]
  },
  {
   "cell_type": "code",
   "execution_count": 26,
   "id": "695b9259",
   "metadata": {
    "execution": {
     "iopub.execute_input": "2023-09-13T07:33:06.732200Z",
     "iopub.status.busy": "2023-09-13T07:33:06.731626Z",
     "iopub.status.idle": "2023-09-13T07:33:06.737971Z",
     "shell.execute_reply": "2023-09-13T07:33:06.736552Z"
    },
    "papermill": {
     "duration": 0.026492,
     "end_time": "2023-09-13T07:33:06.740947",
     "exception": false,
     "start_time": "2023-09-13T07:33:06.714455",
     "status": "completed"
    },
    "tags": []
   },
   "outputs": [
    {
     "name": "stdout",
     "output_type": "stream",
     "text": [
      "['2 in 1 Convertible' 'Gaming' 'Notebook' 'Ultrabook' 'Workstation']\n"
     ]
    }
   ],
   "source": [
    "print(lr.classes_)"
   ]
  },
  {
   "cell_type": "code",
   "execution_count": 27,
   "id": "f3f486e7",
   "metadata": {
    "execution": {
     "iopub.execute_input": "2023-09-13T07:33:06.774669Z",
     "iopub.status.busy": "2023-09-13T07:33:06.774244Z",
     "iopub.status.idle": "2023-09-13T07:33:06.792216Z",
     "shell.execute_reply": "2023-09-13T07:33:06.791063Z"
    },
    "papermill": {
     "duration": 0.037362,
     "end_time": "2023-09-13T07:33:06.794573",
     "exception": false,
     "start_time": "2023-09-13T07:33:06.757211",
     "status": "completed"
    },
    "tags": []
   },
   "outputs": [
    {
     "data": {
      "text/html": [
       "<div>\n",
       "<style scoped>\n",
       "    .dataframe tbody tr th:only-of-type {\n",
       "        vertical-align: middle;\n",
       "    }\n",
       "\n",
       "    .dataframe tbody tr th {\n",
       "        vertical-align: top;\n",
       "    }\n",
       "\n",
       "    .dataframe thead th {\n",
       "        text-align: right;\n",
       "    }\n",
       "</style>\n",
       "<table border=\"1\" class=\"dataframe\">\n",
       "  <thead>\n",
       "    <tr style=\"text-align: right;\">\n",
       "      <th></th>\n",
       "      <th>Manufacturer</th>\n",
       "      <th>Category</th>\n",
       "      <th>Screen_Size</th>\n",
       "      <th>Screen</th>\n",
       "      <th>CPU</th>\n",
       "      <th>RAM</th>\n",
       "      <th>Storage</th>\n",
       "      <th>GPU</th>\n",
       "      <th>OS</th>\n",
       "      <th>OS_Version</th>\n",
       "      <th>Weight</th>\n",
       "      <th>Price</th>\n",
       "    </tr>\n",
       "  </thead>\n",
       "  <tbody>\n",
       "    <tr>\n",
       "      <th>0</th>\n",
       "      <td>1</td>\n",
       "      <td>3</td>\n",
       "      <td>13.3\"</td>\n",
       "      <td>IPS Panel Retina Display 2560x1600</td>\n",
       "      <td>Intel Core i5 2.3GHz</td>\n",
       "      <td>8GB</td>\n",
       "      <td>128GB SSD</td>\n",
       "      <td>Intel Iris Plus Graphics 640</td>\n",
       "      <td>macOS</td>\n",
       "      <td>NaN</td>\n",
       "      <td>1.37kg</td>\n",
       "      <td>11912523.48</td>\n",
       "    </tr>\n",
       "    <tr>\n",
       "      <th>1</th>\n",
       "      <td>1</td>\n",
       "      <td>3</td>\n",
       "      <td>13.3\"</td>\n",
       "      <td>1440x900</td>\n",
       "      <td>Intel Core i5 1.8GHz</td>\n",
       "      <td>8GB</td>\n",
       "      <td>128GB Flash Storage</td>\n",
       "      <td>Intel HD Graphics 6000</td>\n",
       "      <td>macOS</td>\n",
       "      <td>NaN</td>\n",
       "      <td>1.34kg</td>\n",
       "      <td>7993374.48</td>\n",
       "    </tr>\n",
       "    <tr>\n",
       "      <th>2</th>\n",
       "      <td>7</td>\n",
       "      <td>2</td>\n",
       "      <td>15.6\"</td>\n",
       "      <td>Full HD 1920x1080</td>\n",
       "      <td>Intel Core i5 7200U 2.5GHz</td>\n",
       "      <td>8GB</td>\n",
       "      <td>256GB SSD</td>\n",
       "      <td>Intel HD Graphics 620</td>\n",
       "      <td>No OS</td>\n",
       "      <td>NaN</td>\n",
       "      <td>1.86kg</td>\n",
       "      <td>5112900.00</td>\n",
       "    </tr>\n",
       "    <tr>\n",
       "      <th>3</th>\n",
       "      <td>1</td>\n",
       "      <td>3</td>\n",
       "      <td>15.4\"</td>\n",
       "      <td>IPS Panel Retina Display 2880x1800</td>\n",
       "      <td>Intel Core i7 2.7GHz</td>\n",
       "      <td>16GB</td>\n",
       "      <td>512GB SSD</td>\n",
       "      <td>AMD Radeon Pro 455</td>\n",
       "      <td>macOS</td>\n",
       "      <td>NaN</td>\n",
       "      <td>1.83kg</td>\n",
       "      <td>22563005.40</td>\n",
       "    </tr>\n",
       "    <tr>\n",
       "      <th>4</th>\n",
       "      <td>1</td>\n",
       "      <td>3</td>\n",
       "      <td>13.3\"</td>\n",
       "      <td>IPS Panel Retina Display 2560x1600</td>\n",
       "      <td>Intel Core i5 3.1GHz</td>\n",
       "      <td>8GB</td>\n",
       "      <td>256GB SSD</td>\n",
       "      <td>Intel Iris Plus Graphics 650</td>\n",
       "      <td>macOS</td>\n",
       "      <td>NaN</td>\n",
       "      <td>1.37kg</td>\n",
       "      <td>16037611.20</td>\n",
       "    </tr>\n",
       "  </tbody>\n",
       "</table>\n",
       "</div>"
      ],
      "text/plain": [
       "   Manufacturer  Category Screen_Size                              Screen  \\\n",
       "0             1         3       13.3\"  IPS Panel Retina Display 2560x1600   \n",
       "1             1         3       13.3\"                            1440x900   \n",
       "2             7         2       15.6\"                   Full HD 1920x1080   \n",
       "3             1         3       15.4\"  IPS Panel Retina Display 2880x1800   \n",
       "4             1         3       13.3\"  IPS Panel Retina Display 2560x1600   \n",
       "\n",
       "                          CPU   RAM              Storage  \\\n",
       "0        Intel Core i5 2.3GHz   8GB            128GB SSD   \n",
       "1        Intel Core i5 1.8GHz   8GB  128GB Flash Storage   \n",
       "2  Intel Core i5 7200U 2.5GHz   8GB            256GB SSD   \n",
       "3        Intel Core i7 2.7GHz  16GB            512GB SSD   \n",
       "4        Intel Core i5 3.1GHz   8GB            256GB SSD   \n",
       "\n",
       "                            GPU     OS OS_Version  Weight        Price  \n",
       "0  Intel Iris Plus Graphics 640  macOS        NaN  1.37kg  11912523.48  \n",
       "1        Intel HD Graphics 6000  macOS        NaN  1.34kg   7993374.48  \n",
       "2         Intel HD Graphics 620  No OS        NaN  1.86kg   5112900.00  \n",
       "3            AMD Radeon Pro 455  macOS        NaN  1.83kg  22563005.40  \n",
       "4  Intel Iris Plus Graphics 650  macOS        NaN  1.37kg  16037611.20  "
      ]
     },
     "execution_count": 27,
     "metadata": {},
     "output_type": "execute_result"
    }
   ],
   "source": [
    "df.head()"
   ]
  },
  {
   "cell_type": "markdown",
   "id": "259b0270",
   "metadata": {
    "papermill": {
     "duration": 0.015624,
     "end_time": "2023-09-13T07:33:06.825949",
     "exception": false,
     "start_time": "2023-09-13T07:33:06.810325",
     "status": "completed"
    },
    "tags": []
   },
   "source": [
    "screen size"
   ]
  },
  {
   "cell_type": "code",
   "execution_count": 28,
   "id": "1705fc2f",
   "metadata": {
    "execution": {
     "iopub.execute_input": "2023-09-13T07:33:06.861644Z",
     "iopub.status.busy": "2023-09-13T07:33:06.860577Z",
     "iopub.status.idle": "2023-09-13T07:33:06.868878Z",
     "shell.execute_reply": "2023-09-13T07:33:06.867692Z"
    },
    "papermill": {
     "duration": 0.028992,
     "end_time": "2023-09-13T07:33:06.871443",
     "exception": false,
     "start_time": "2023-09-13T07:33:06.842451",
     "status": "completed"
    },
    "tags": []
   },
   "outputs": [
    {
     "data": {
      "text/plain": [
       "array(['13.3\"', '15.6\"', '15.4\"', '14.0\"', '12.0\"', '11.6\"', '17.3\"',\n",
       "       '10.1\"', '13.5\"', '12.5\"', '13.0\"', '18.4\"', '13.9\"', '12.3\"',\n",
       "       '17.0\"', '15.0\"', '14.1\"', '11.3\"'], dtype=object)"
      ]
     },
     "execution_count": 28,
     "metadata": {},
     "output_type": "execute_result"
    }
   ],
   "source": [
    "df['Screen_Size'].unique()"
   ]
  },
  {
   "cell_type": "code",
   "execution_count": 29,
   "id": "03395792",
   "metadata": {
    "execution": {
     "iopub.execute_input": "2023-09-13T07:33:06.906246Z",
     "iopub.status.busy": "2023-09-13T07:33:06.905157Z",
     "iopub.status.idle": "2023-09-13T07:33:06.913960Z",
     "shell.execute_reply": "2023-09-13T07:33:06.912660Z"
    },
    "papermill": {
     "duration": 0.028986,
     "end_time": "2023-09-13T07:33:06.916696",
     "exception": false,
     "start_time": "2023-09-13T07:33:06.887710",
     "status": "completed"
    },
    "tags": []
   },
   "outputs": [],
   "source": [
    "df['Screen_Size']=df['Screen_Size'].str.replace('\"','').astype('float')"
   ]
  },
  {
   "cell_type": "code",
   "execution_count": 30,
   "id": "337fa5aa",
   "metadata": {
    "execution": {
     "iopub.execute_input": "2023-09-13T07:33:06.951588Z",
     "iopub.status.busy": "2023-09-13T07:33:06.951141Z",
     "iopub.status.idle": "2023-09-13T07:33:06.969823Z",
     "shell.execute_reply": "2023-09-13T07:33:06.969031Z"
    },
    "papermill": {
     "duration": 0.038837,
     "end_time": "2023-09-13T07:33:06.972117",
     "exception": false,
     "start_time": "2023-09-13T07:33:06.933280",
     "status": "completed"
    },
    "tags": []
   },
   "outputs": [
    {
     "data": {
      "text/html": [
       "<div>\n",
       "<style scoped>\n",
       "    .dataframe tbody tr th:only-of-type {\n",
       "        vertical-align: middle;\n",
       "    }\n",
       "\n",
       "    .dataframe tbody tr th {\n",
       "        vertical-align: top;\n",
       "    }\n",
       "\n",
       "    .dataframe thead th {\n",
       "        text-align: right;\n",
       "    }\n",
       "</style>\n",
       "<table border=\"1\" class=\"dataframe\">\n",
       "  <thead>\n",
       "    <tr style=\"text-align: right;\">\n",
       "      <th></th>\n",
       "      <th>Manufacturer</th>\n",
       "      <th>Category</th>\n",
       "      <th>Screen_Size</th>\n",
       "      <th>Screen</th>\n",
       "      <th>CPU</th>\n",
       "      <th>RAM</th>\n",
       "      <th>Storage</th>\n",
       "      <th>GPU</th>\n",
       "      <th>OS</th>\n",
       "      <th>OS_Version</th>\n",
       "      <th>Weight</th>\n",
       "      <th>Price</th>\n",
       "    </tr>\n",
       "  </thead>\n",
       "  <tbody>\n",
       "    <tr>\n",
       "      <th>0</th>\n",
       "      <td>1</td>\n",
       "      <td>3</td>\n",
       "      <td>13.3</td>\n",
       "      <td>IPS Panel Retina Display 2560x1600</td>\n",
       "      <td>Intel Core i5 2.3GHz</td>\n",
       "      <td>8GB</td>\n",
       "      <td>128GB SSD</td>\n",
       "      <td>Intel Iris Plus Graphics 640</td>\n",
       "      <td>macOS</td>\n",
       "      <td>NaN</td>\n",
       "      <td>1.37kg</td>\n",
       "      <td>11912523.48</td>\n",
       "    </tr>\n",
       "    <tr>\n",
       "      <th>1</th>\n",
       "      <td>1</td>\n",
       "      <td>3</td>\n",
       "      <td>13.3</td>\n",
       "      <td>1440x900</td>\n",
       "      <td>Intel Core i5 1.8GHz</td>\n",
       "      <td>8GB</td>\n",
       "      <td>128GB Flash Storage</td>\n",
       "      <td>Intel HD Graphics 6000</td>\n",
       "      <td>macOS</td>\n",
       "      <td>NaN</td>\n",
       "      <td>1.34kg</td>\n",
       "      <td>7993374.48</td>\n",
       "    </tr>\n",
       "    <tr>\n",
       "      <th>2</th>\n",
       "      <td>7</td>\n",
       "      <td>2</td>\n",
       "      <td>15.6</td>\n",
       "      <td>Full HD 1920x1080</td>\n",
       "      <td>Intel Core i5 7200U 2.5GHz</td>\n",
       "      <td>8GB</td>\n",
       "      <td>256GB SSD</td>\n",
       "      <td>Intel HD Graphics 620</td>\n",
       "      <td>No OS</td>\n",
       "      <td>NaN</td>\n",
       "      <td>1.86kg</td>\n",
       "      <td>5112900.00</td>\n",
       "    </tr>\n",
       "    <tr>\n",
       "      <th>3</th>\n",
       "      <td>1</td>\n",
       "      <td>3</td>\n",
       "      <td>15.4</td>\n",
       "      <td>IPS Panel Retina Display 2880x1800</td>\n",
       "      <td>Intel Core i7 2.7GHz</td>\n",
       "      <td>16GB</td>\n",
       "      <td>512GB SSD</td>\n",
       "      <td>AMD Radeon Pro 455</td>\n",
       "      <td>macOS</td>\n",
       "      <td>NaN</td>\n",
       "      <td>1.83kg</td>\n",
       "      <td>22563005.40</td>\n",
       "    </tr>\n",
       "    <tr>\n",
       "      <th>4</th>\n",
       "      <td>1</td>\n",
       "      <td>3</td>\n",
       "      <td>13.3</td>\n",
       "      <td>IPS Panel Retina Display 2560x1600</td>\n",
       "      <td>Intel Core i5 3.1GHz</td>\n",
       "      <td>8GB</td>\n",
       "      <td>256GB SSD</td>\n",
       "      <td>Intel Iris Plus Graphics 650</td>\n",
       "      <td>macOS</td>\n",
       "      <td>NaN</td>\n",
       "      <td>1.37kg</td>\n",
       "      <td>16037611.20</td>\n",
       "    </tr>\n",
       "  </tbody>\n",
       "</table>\n",
       "</div>"
      ],
      "text/plain": [
       "   Manufacturer  Category  Screen_Size                              Screen  \\\n",
       "0             1         3         13.3  IPS Panel Retina Display 2560x1600   \n",
       "1             1         3         13.3                            1440x900   \n",
       "2             7         2         15.6                   Full HD 1920x1080   \n",
       "3             1         3         15.4  IPS Panel Retina Display 2880x1800   \n",
       "4             1         3         13.3  IPS Panel Retina Display 2560x1600   \n",
       "\n",
       "                          CPU   RAM              Storage  \\\n",
       "0        Intel Core i5 2.3GHz   8GB            128GB SSD   \n",
       "1        Intel Core i5 1.8GHz   8GB  128GB Flash Storage   \n",
       "2  Intel Core i5 7200U 2.5GHz   8GB            256GB SSD   \n",
       "3        Intel Core i7 2.7GHz  16GB            512GB SSD   \n",
       "4        Intel Core i5 3.1GHz   8GB            256GB SSD   \n",
       "\n",
       "                            GPU     OS OS_Version  Weight        Price  \n",
       "0  Intel Iris Plus Graphics 640  macOS        NaN  1.37kg  11912523.48  \n",
       "1        Intel HD Graphics 6000  macOS        NaN  1.34kg   7993374.48  \n",
       "2         Intel HD Graphics 620  No OS        NaN  1.86kg   5112900.00  \n",
       "3            AMD Radeon Pro 455  macOS        NaN  1.83kg  22563005.40  \n",
       "4  Intel Iris Plus Graphics 650  macOS        NaN  1.37kg  16037611.20  "
      ]
     },
     "execution_count": 30,
     "metadata": {},
     "output_type": "execute_result"
    }
   ],
   "source": [
    "df.head()"
   ]
  },
  {
   "cell_type": "markdown",
   "id": "ac982959",
   "metadata": {
    "papermill": {
     "duration": 0.016602,
     "end_time": "2023-09-13T07:33:07.006129",
     "exception": false,
     "start_time": "2023-09-13T07:33:06.989527",
     "status": "completed"
    },
    "tags": []
   },
   "source": [
    "screen"
   ]
  },
  {
   "cell_type": "code",
   "execution_count": 31,
   "id": "8bb5e653",
   "metadata": {
    "execution": {
     "iopub.execute_input": "2023-09-13T07:33:07.041058Z",
     "iopub.status.busy": "2023-09-13T07:33:07.040248Z",
     "iopub.status.idle": "2023-09-13T07:33:07.048147Z",
     "shell.execute_reply": "2023-09-13T07:33:07.047080Z"
    },
    "papermill": {
     "duration": 0.028096,
     "end_time": "2023-09-13T07:33:07.050397",
     "exception": false,
     "start_time": "2023-09-13T07:33:07.022301",
     "status": "completed"
    },
    "tags": []
   },
   "outputs": [
    {
     "data": {
      "text/plain": [
       "array(['IPS Panel Retina Display 2560x1600', '1440x900',\n",
       "       'Full HD 1920x1080', 'IPS Panel Retina Display 2880x1800',\n",
       "       '1366x768', 'IPS Panel Full HD 1920x1080',\n",
       "       'IPS Panel Retina Display 2304x1440',\n",
       "       'IPS Panel Full HD / Touchscreen 1920x1080',\n",
       "       'Full HD / Touchscreen 1920x1080',\n",
       "       'Touchscreen / Quad HD+ 3200x1800',\n",
       "       'IPS Panel Touchscreen 1920x1200', 'Touchscreen 2256x1504',\n",
       "       'Quad HD+ / Touchscreen 3200x1800', 'IPS Panel 1366x768',\n",
       "       'IPS Panel 4K Ultra HD / Touchscreen 3840x2160',\n",
       "       'IPS Panel Full HD 2160x1440',\n",
       "       '4K Ultra HD / Touchscreen 3840x2160', 'Touchscreen 2560x1440',\n",
       "       '1600x900', 'IPS Panel 4K Ultra HD 3840x2160',\n",
       "       '4K Ultra HD 3840x2160', 'Touchscreen 1366x768',\n",
       "       'IPS Panel Full HD 1366x768', 'IPS Panel 2560x1440',\n",
       "       'IPS Panel Full HD 2560x1440',\n",
       "       'IPS Panel Retina Display 2736x1824', 'Touchscreen 2400x1600',\n",
       "       '2560x1440', 'IPS Panel Quad HD+ 2560x1440',\n",
       "       'IPS Panel Quad HD+ 3200x1800',\n",
       "       'IPS Panel Quad HD+ / Touchscreen 3200x1800',\n",
       "       'IPS Panel Touchscreen 1366x768', '1920x1080',\n",
       "       'IPS Panel Full HD 1920x1200',\n",
       "       'IPS Panel Touchscreen / 4K Ultra HD 3840x2160',\n",
       "       'IPS Panel Touchscreen 2560x1440',\n",
       "       'Touchscreen / Full HD 1920x1080', 'Quad HD+ 3200x1800',\n",
       "       'Touchscreen / 4K Ultra HD 3840x2160',\n",
       "       'IPS Panel Touchscreen 2400x1600'], dtype=object)"
      ]
     },
     "execution_count": 31,
     "metadata": {},
     "output_type": "execute_result"
    }
   ],
   "source": [
    "df.Screen.unique()"
   ]
  },
  {
   "cell_type": "code",
   "execution_count": 32,
   "id": "2add2ef0",
   "metadata": {
    "execution": {
     "iopub.execute_input": "2023-09-13T07:33:07.086192Z",
     "iopub.status.busy": "2023-09-13T07:33:07.085683Z",
     "iopub.status.idle": "2023-09-13T07:33:07.094144Z",
     "shell.execute_reply": "2023-09-13T07:33:07.092764Z"
    },
    "papermill": {
     "duration": 0.029696,
     "end_time": "2023-09-13T07:33:07.096857",
     "exception": false,
     "start_time": "2023-09-13T07:33:07.067161",
     "status": "completed"
    },
    "tags": []
   },
   "outputs": [],
   "source": [
    "df['Touchscreen']=df['Screen'].str.contains('Touchscreen',case=False).astype('int')"
   ]
  },
  {
   "cell_type": "code",
   "execution_count": 33,
   "id": "7a42aa56",
   "metadata": {
    "execution": {
     "iopub.execute_input": "2023-09-13T07:33:07.132711Z",
     "iopub.status.busy": "2023-09-13T07:33:07.132226Z",
     "iopub.status.idle": "2023-09-13T07:33:07.147641Z",
     "shell.execute_reply": "2023-09-13T07:33:07.146652Z"
    },
    "papermill": {
     "duration": 0.036149,
     "end_time": "2023-09-13T07:33:07.149889",
     "exception": false,
     "start_time": "2023-09-13T07:33:07.113740",
     "status": "completed"
    },
    "tags": []
   },
   "outputs": [
    {
     "name": "stdout",
     "output_type": "stream",
     "text": [
      "<class 'pandas.core.frame.DataFrame'>\n",
      "Index: 1302 entries, 0 to 324\n",
      "Data columns (total 13 columns):\n",
      " #   Column        Non-Null Count  Dtype  \n",
      "---  ------        --------------  -----  \n",
      " 0   Manufacturer  1302 non-null   int64  \n",
      " 1   Category      1302 non-null   int64  \n",
      " 2   Screen_Size   1302 non-null   float64\n",
      " 3   Screen        1302 non-null   object \n",
      " 4   CPU           1302 non-null   object \n",
      " 5   RAM           1302 non-null   object \n",
      " 6    Storage      1302 non-null   object \n",
      " 7   GPU           1302 non-null   object \n",
      " 8   OS            1302 non-null   object \n",
      " 9   OS_Version    1132 non-null   object \n",
      " 10  Weight        1302 non-null   object \n",
      " 11  Price         1302 non-null   float64\n",
      " 12  Touchscreen   1302 non-null   int64  \n",
      "dtypes: float64(2), int64(3), object(8)\n",
      "memory usage: 142.4+ KB\n"
     ]
    }
   ],
   "source": [
    "df.info()"
   ]
  },
  {
   "cell_type": "code",
   "execution_count": 34,
   "id": "13b2cf15",
   "metadata": {
    "execution": {
     "iopub.execute_input": "2023-09-13T07:33:07.186367Z",
     "iopub.status.busy": "2023-09-13T07:33:07.185481Z",
     "iopub.status.idle": "2023-09-13T07:33:07.194346Z",
     "shell.execute_reply": "2023-09-13T07:33:07.193198Z"
    },
    "papermill": {
     "duration": 0.029738,
     "end_time": "2023-09-13T07:33:07.197071",
     "exception": false,
     "start_time": "2023-09-13T07:33:07.167333",
     "status": "completed"
    },
    "tags": []
   },
   "outputs": [],
   "source": [
    "df['IPS_Panel']=df['Screen'].str.contains('IPS',case=False).astype('int')"
   ]
  },
  {
   "cell_type": "code",
   "execution_count": 35,
   "id": "3adbaf89",
   "metadata": {
    "execution": {
     "iopub.execute_input": "2023-09-13T07:33:07.233462Z",
     "iopub.status.busy": "2023-09-13T07:33:07.233010Z",
     "iopub.status.idle": "2023-09-13T07:33:07.241973Z",
     "shell.execute_reply": "2023-09-13T07:33:07.240743Z"
    },
    "papermill": {
     "duration": 0.030614,
     "end_time": "2023-09-13T07:33:07.244632",
     "exception": false,
     "start_time": "2023-09-13T07:33:07.214018",
     "status": "completed"
    },
    "tags": []
   },
   "outputs": [
    {
     "data": {
      "text/plain": [
       "IPS_Panel\n",
       "0    937\n",
       "1    365\n",
       "Name: count, dtype: int64"
      ]
     },
     "execution_count": 35,
     "metadata": {},
     "output_type": "execute_result"
    }
   ],
   "source": [
    "df['IPS_Panel'].value_counts()"
   ]
  },
  {
   "cell_type": "code",
   "execution_count": 36,
   "id": "d6f6e191",
   "metadata": {
    "execution": {
     "iopub.execute_input": "2023-09-13T07:33:07.280874Z",
     "iopub.status.busy": "2023-09-13T07:33:07.280398Z",
     "iopub.status.idle": "2023-09-13T07:33:07.289230Z",
     "shell.execute_reply": "2023-09-13T07:33:07.287960Z"
    },
    "papermill": {
     "duration": 0.029634,
     "end_time": "2023-09-13T07:33:07.291810",
     "exception": false,
     "start_time": "2023-09-13T07:33:07.262176",
     "status": "completed"
    },
    "tags": []
   },
   "outputs": [],
   "source": [
    "df['Retina_display']=df['Screen'].str.contains('Retina',case=False).astype('int')"
   ]
  },
  {
   "cell_type": "code",
   "execution_count": 37,
   "id": "d27f7fad",
   "metadata": {
    "execution": {
     "iopub.execute_input": "2023-09-13T07:33:07.327333Z",
     "iopub.status.busy": "2023-09-13T07:33:07.326897Z",
     "iopub.status.idle": "2023-09-13T07:33:07.335586Z",
     "shell.execute_reply": "2023-09-13T07:33:07.334604Z"
    },
    "papermill": {
     "duration": 0.029196,
     "end_time": "2023-09-13T07:33:07.337817",
     "exception": false,
     "start_time": "2023-09-13T07:33:07.308621",
     "status": "completed"
    },
    "tags": []
   },
   "outputs": [
    {
     "data": {
      "text/plain": [
       "Retina_display\n",
       "0    1285\n",
       "1      17\n",
       "Name: count, dtype: int64"
      ]
     },
     "execution_count": 37,
     "metadata": {},
     "output_type": "execute_result"
    }
   ],
   "source": [
    "df['Retina_display'].value_counts()"
   ]
  },
  {
   "cell_type": "code",
   "execution_count": null,
   "id": "5ba9bdc7",
   "metadata": {
    "papermill": {
     "duration": 0.016293,
     "end_time": "2023-09-13T07:33:07.370788",
     "exception": false,
     "start_time": "2023-09-13T07:33:07.354495",
     "status": "completed"
    },
    "tags": []
   },
   "outputs": [],
   "source": []
  }
 ],
 "kernelspec": {
  "display_name": "Python 3",
  "language": "python",
  "name": "python3"
 },
 "language_info": {
  "codemirror_mode": {
   "name": "ipython",
   "version": 3
  },
  "file_extension": ".py",
  "mimetype": "text/x-python",
  "name": "python",
  "nbconvert_exporter": "python",
  "pygments_lexer": "ipython3",
  "version": "3.6.4"
 },
 "metadata": {
  "kernelspec": {
   "display_name": "Python 3",
   "language": "python",
   "name": "python3"
  },
  "language_info": {
   "codemirror_mode": {
    "name": "ipython",
    "version": 3
   },
   "file_extension": ".py",
   "mimetype": "text/x-python",
   "name": "python",
   "nbconvert_exporter": "python",
   "pygments_lexer": "ipython3",
   "version": "3.10.12"
  },
  "papermill": {
   "default_parameters": {},
   "duration": 9.319434,
   "end_time": "2023-09-13T07:33:08.211987",
   "environment_variables": {},
   "exception": null,
   "input_path": "__notebook__.ipynb",
   "output_path": "__notebook__.ipynb",
   "parameters": {},
   "start_time": "2023-09-13T07:32:58.892553",
   "version": "2.4.0"
  }
 },
 "nbformat": 4,
 "nbformat_minor": 5
}
